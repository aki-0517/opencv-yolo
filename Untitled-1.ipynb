{
 "cells": [
  {
   "cell_type": "code",
   "execution_count": 2,
   "metadata": {},
   "outputs": [
    {
     "name": "stderr",
     "output_type": "stream",
     "text": [
      "\n",
      "image 1/1 /Users/onoakinobu/Desktop/opencv/bus.png: 640x512 4 persons, 1 bus, 248.8ms\n",
      "Speed: 59.5ms preprocess, 248.8ms inference, 52.8ms postprocess per image at shape (1, 3, 640, 512)\n",
      "Results saved to \u001b[1m/Users/onoakinobu/Desktop/opencv/runs/detect/predict\u001b[0m\n"
     ]
    }
   ],
   "source": [
    "from ultralytics import YOLO\n",
    "import cv2\n",
    "\n",
    "# モデル読み込み\n",
    "model = YOLO(\"yolov8n.pt\")\n",
    "\n",
    "# 入力画像\n",
    "results = model('bus.png',save=True) \n"
   ]
  }
 ],
 "metadata": {
  "kernelspec": {
   "display_name": "venv",
   "language": "python",
   "name": "python3"
  },
  "language_info": {
   "codemirror_mode": {
    "name": "ipython",
    "version": 3
   },
   "file_extension": ".py",
   "mimetype": "text/x-python",
   "name": "python",
   "nbconvert_exporter": "python",
   "pygments_lexer": "ipython3",
   "version": "3.8.9"
  }
 },
 "nbformat": 4,
 "nbformat_minor": 2
}
