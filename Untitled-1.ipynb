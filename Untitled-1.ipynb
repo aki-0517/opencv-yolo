{
 "cells": [
  {
   "cell_type": "code",
   "execution_count": null,
   "metadata": {},
   "outputs": [],
   "source": [
    "from ultralytics import YOLO\n",
    "import cv2\n",
    "\n",
    "# モデル読み込み\n",
    "model = YOLO(\"yolov8n.pt\")\n",
    "\n",
    "# 入力画像\n",
    "results = model('bus.jpg',save=True) \n"
   ]
  }
 ],
 "metadata": {
  "language_info": {
   "name": "python"
  }
 },
 "nbformat": 4,
 "nbformat_minor": 2
}
