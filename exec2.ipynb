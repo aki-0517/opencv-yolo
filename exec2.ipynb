{
 "cells": [
  {
   "cell_type": "code",
   "execution_count": 3,
   "metadata": {},
   "outputs": [
    {
     "name": "stderr",
     "output_type": "stream",
     "text": [
      "/Users/onoakinobu/Desktop/opencv/venv/lib/python3.8/site-packages/urllib3/__init__.py:34: NotOpenSSLWarning: urllib3 v2.0 only supports OpenSSL 1.1.1+, currently the 'ssl' module is compiled with 'LibreSSL 2.8.3'. See: https://github.com/urllib3/urllib3/issues/3020\n",
      "  warnings.warn(\n"
     ]
    }
   ],
   "source": [
    "from ultralytics import YOLO\n",
    "import cv2\n",
    "\n",
    "# モデル読み込み\n",
    "model = YOLO(\"yolov8n.pt\")\n"
   ]
  },
  {
   "cell_type": "code",
   "execution_count": 7,
   "metadata": {},
   "outputs": [
    {
     "name": "stderr",
     "output_type": "stream",
     "text": [
      "\n",
      "0: 384x640 1 person, 129.5ms\n",
      "Speed: 33.7ms preprocess, 129.5ms inference, 20.4ms postprocess per image at shape (1, 3, 384, 640)\n"
     ]
    },
    {
     "ename": "AttributeError",
     "evalue": "'Results' object has no attribute 'in_region'. See valid attributes below.\n\n    A class for storing and manipulating inference results.\n\n    Args:\n        orig_img (numpy.ndarray): The original image as a numpy array.\n        path (str): The path to the image file.\n        names (dict): A dictionary of class names.\n        boxes (torch.tensor, optional): A 2D tensor of bounding box coordinates for each detection.\n        masks (torch.tensor, optional): A 3D tensor of detection masks, where each mask is a binary image.\n        probs (torch.tensor, optional): A 1D tensor of probabilities of each class for classification task.\n        keypoints (List[List[float]], optional): A list of detected keypoints for each object.\n\n    Attributes:\n        orig_img (numpy.ndarray): The original image as a numpy array.\n        orig_shape (tuple): The original image shape in (height, width) format.\n        boxes (Boxes, optional): A Boxes object containing the detection bounding boxes.\n        masks (Masks, optional): A Masks object containing the detection masks.\n        probs (Probs, optional): A Probs object containing probabilities of each class for classification task.\n        keypoints (Keypoints, optional): A Keypoints object containing detected keypoints for each object.\n        speed (dict): A dictionary of preprocess, inference, and postprocess speeds in milliseconds per image.\n        names (dict): A dictionary of class names.\n        path (str): The path to the image file.\n        _keys (tuple): A tuple of attribute names for non-empty attributes.\n    ",
     "output_type": "error",
     "traceback": [
      "\u001b[0;31m---------------------------------------------------------------------------\u001b[0m",
      "\u001b[0;31mAttributeError\u001b[0m                            Traceback (most recent call last)",
      "Cell \u001b[0;32mIn[7], line 24\u001b[0m\n\u001b[1;32m     22\u001b[0m \u001b[38;5;66;03m# Check if any object is in the red region\u001b[39;00m\n\u001b[1;32m     23\u001b[0m \u001b[38;5;28;01mfor\u001b[39;00m obj \u001b[38;5;129;01min\u001b[39;00m results:\n\u001b[0;32m---> 24\u001b[0m     \u001b[38;5;28;01mif\u001b[39;00m \u001b[43mobj\u001b[49m\u001b[38;5;241;43m.\u001b[39;49m\u001b[43min_region\u001b[49m(red_region):\n\u001b[1;32m     25\u001b[0m         cv2\u001b[38;5;241m.\u001b[39mputText(annotated_frame, \u001b[38;5;124m'\u001b[39m\u001b[38;5;124mWarning: Object detected in the red region!\u001b[39m\u001b[38;5;124m'\u001b[39m, (\u001b[38;5;241m50\u001b[39m, \u001b[38;5;241m50\u001b[39m), cv2\u001b[38;5;241m.\u001b[39mFONT_HERSHEY_SIMPLEX, \u001b[38;5;241m1\u001b[39m, (\u001b[38;5;241m0\u001b[39m, \u001b[38;5;241m0\u001b[39m, \u001b[38;5;241m255\u001b[39m), \u001b[38;5;241m2\u001b[39m)\n\u001b[1;32m     27\u001b[0m cv2\u001b[38;5;241m.\u001b[39mimshow(\u001b[38;5;124m\"\u001b[39m\u001b[38;5;124mYOLOv8 Inference\u001b[39m\u001b[38;5;124m\"\u001b[39m, annotated_frame)\n",
      "File \u001b[0;32m~/Desktop/opencv/venv/lib/python3.8/site-packages/ultralytics/utils/__init__.py:153\u001b[0m, in \u001b[0;36mSimpleClass.__getattr__\u001b[0;34m(self, attr)\u001b[0m\n\u001b[1;32m    151\u001b[0m \u001b[38;5;250m\u001b[39m\u001b[38;5;124;03m\"\"\"Custom attribute access error message with helpful information.\"\"\"\u001b[39;00m\n\u001b[1;32m    152\u001b[0m name \u001b[38;5;241m=\u001b[39m \u001b[38;5;28mself\u001b[39m\u001b[38;5;241m.\u001b[39m\u001b[38;5;18m__class__\u001b[39m\u001b[38;5;241m.\u001b[39m\u001b[38;5;18m__name__\u001b[39m\n\u001b[0;32m--> 153\u001b[0m \u001b[38;5;28;01mraise\u001b[39;00m \u001b[38;5;167;01mAttributeError\u001b[39;00m(\u001b[38;5;124mf\u001b[39m\u001b[38;5;124m\"\u001b[39m\u001b[38;5;124m'\u001b[39m\u001b[38;5;132;01m{\u001b[39;00mname\u001b[38;5;132;01m}\u001b[39;00m\u001b[38;5;124m'\u001b[39m\u001b[38;5;124m object has no attribute \u001b[39m\u001b[38;5;124m'\u001b[39m\u001b[38;5;132;01m{\u001b[39;00mattr\u001b[38;5;132;01m}\u001b[39;00m\u001b[38;5;124m'\u001b[39m\u001b[38;5;124m. See valid attributes below.\u001b[39m\u001b[38;5;130;01m\\n\u001b[39;00m\u001b[38;5;132;01m{\u001b[39;00m\u001b[38;5;28mself\u001b[39m\u001b[38;5;241m.\u001b[39m\u001b[38;5;18m__doc__\u001b[39m\u001b[38;5;132;01m}\u001b[39;00m\u001b[38;5;124m\"\u001b[39m)\n",
      "\u001b[0;31mAttributeError\u001b[0m: 'Results' object has no attribute 'in_region'. See valid attributes below.\n\n    A class for storing and manipulating inference results.\n\n    Args:\n        orig_img (numpy.ndarray): The original image as a numpy array.\n        path (str): The path to the image file.\n        names (dict): A dictionary of class names.\n        boxes (torch.tensor, optional): A 2D tensor of bounding box coordinates for each detection.\n        masks (torch.tensor, optional): A 3D tensor of detection masks, where each mask is a binary image.\n        probs (torch.tensor, optional): A 1D tensor of probabilities of each class for classification task.\n        keypoints (List[List[float]], optional): A list of detected keypoints for each object.\n\n    Attributes:\n        orig_img (numpy.ndarray): The original image as a numpy array.\n        orig_shape (tuple): The original image shape in (height, width) format.\n        boxes (Boxes, optional): A Boxes object containing the detection bounding boxes.\n        masks (Masks, optional): A Masks object containing the detection masks.\n        probs (Probs, optional): A Probs object containing probabilities of each class for classification task.\n        keypoints (Keypoints, optional): A Keypoints object containing detected keypoints for each object.\n        speed (dict): A dictionary of preprocess, inference, and postprocess speeds in milliseconds per image.\n        names (dict): A dictionary of class names.\n        path (str): The path to the image file.\n        _keys (tuple): A tuple of attribute names for non-empty attributes.\n    "
     ]
    }
   ],
   "source": [
    "# Open the web camera stream\n",
    "cap = cv2.VideoCapture(0) # サンプルからここだけ変更するだけ\n",
    "\n",
    "while cap.isOpened():\n",
    "    success, frame = cap.read()\n",
    "    k = cv2.waitKey(1) # 一応キー入力で終了できるようにしておく\n",
    "\n",
    "    if k == ord('q'):  # 'q' キーが押されたら終了する\n",
    "        break\n",
    "    if success:\n",
    "        results = model(frame)\n",
    "        # person クラスのみを検出する\n",
    "        # if results[0].names == \"person\":\n",
    "        #     annotated_frame = results[0].plot()\n",
    "        annotated_frame = results[0].plot()\n",
    "\n",
    "        cv2.imshow(\"YOLOv8 Inference\", annotated_frame)\n",
    "cap.release()\n",
    "cv2.destroyAllWindows()"
   ]
  },
  {
   "cell_type": "code",
   "execution_count": 18,
   "metadata": {},
   "outputs": [
    {
     "name": "stderr",
     "output_type": "stream",
     "text": [
      "\n",
      "0: 384x640 1 person, 147.7ms\n",
      "Speed: 37.5ms preprocess, 147.7ms inference, 16.5ms postprocess per image at shape (1, 3, 384, 640)\n",
      "\n",
      "0: 384x640 1 person, 56.5ms\n",
      "Speed: 1.7ms preprocess, 56.5ms inference, 0.6ms postprocess per image at shape (1, 3, 384, 640)\n",
      "\n",
      "0: 384x640 1 person, 56.8ms\n",
      "Speed: 1.7ms preprocess, 56.8ms inference, 0.6ms postprocess per image at shape (1, 3, 384, 640)\n"
     ]
    },
    {
     "name": "stdout",
     "output_type": "stream",
     "text": [
      "bbox: [     464.57      191.05       879.1       714.7]\n",
      "region: [[100 100]\n",
      " [200 200]]\n",
      "bbox: [     465.44      190.64      913.03      714.54]\n",
      "region: [[100 100]\n",
      " [200 200]]\n",
      "bbox: [     465.65      191.26      938.54      714.55]\n",
      "region: [[100 100]\n",
      " [200 200]]\n"
     ]
    },
    {
     "name": "stderr",
     "output_type": "stream",
     "text": [
      "\n",
      "0: 384x640 1 person, 57.7ms\n",
      "Speed: 1.6ms preprocess, 57.7ms inference, 1.1ms postprocess per image at shape (1, 3, 384, 640)\n",
      "\n",
      "0: 384x640 1 person, 54.9ms\n",
      "Speed: 1.8ms preprocess, 54.9ms inference, 0.6ms postprocess per image at shape (1, 3, 384, 640)\n",
      "\n",
      "0: 384x640 1 person, 51.7ms\n",
      "Speed: 1.7ms preprocess, 51.7ms inference, 0.5ms postprocess per image at shape (1, 3, 384, 640)\n"
     ]
    },
    {
     "name": "stdout",
     "output_type": "stream",
     "text": [
      "bbox: [     465.84      191.17      894.64      714.61]\n",
      "region: [[100 100]\n",
      " [200 200]]\n",
      "bbox: [      466.9      191.38       881.2      714.68]\n",
      "region: [[100 100]\n",
      " [200 200]]\n",
      "bbox: [     465.84       191.4      893.82      714.53]\n",
      "region: [[100 100]\n",
      " [200 200]]\n"
     ]
    },
    {
     "name": "stderr",
     "output_type": "stream",
     "text": [
      "\n",
      "0: 384x640 1 person, 85.8ms\n",
      "Speed: 2.7ms preprocess, 85.8ms inference, 0.8ms postprocess per image at shape (1, 3, 384, 640)\n",
      "\n",
      "0: 384x640 1 person, 108.5ms\n",
      "Speed: 3.1ms preprocess, 108.5ms inference, 0.8ms postprocess per image at shape (1, 3, 384, 640)\n"
     ]
    },
    {
     "name": "stdout",
     "output_type": "stream",
     "text": [
      "bbox: [      466.9      191.21      891.76      714.74]\n",
      "region: [[100 100]\n",
      " [200 200]]\n",
      "bbox: [     465.77      191.24      914.36       714.5]\n",
      "region: [[100 100]\n",
      " [200 200]]\n"
     ]
    },
    {
     "name": "stderr",
     "output_type": "stream",
     "text": [
      "\n",
      "0: 384x640 1 person, 84.3ms\n",
      "Speed: 1.9ms preprocess, 84.3ms inference, 0.9ms postprocess per image at shape (1, 3, 384, 640)\n",
      "\n",
      "0: 384x640 1 person, 98.5ms\n",
      "Speed: 2.5ms preprocess, 98.5ms inference, 1.0ms postprocess per image at shape (1, 3, 384, 640)\n",
      "\n"
     ]
    },
    {
     "name": "stdout",
     "output_type": "stream",
     "text": [
      "bbox: [      465.4      191.55      888.66      714.46]\n",
      "region: [[100 100]\n",
      " [200 200]]\n",
      "bbox: [     465.57      190.85      888.01      714.36]\n",
      "region: [[100 100]\n",
      " [200 200]]\n"
     ]
    },
    {
     "name": "stderr",
     "output_type": "stream",
     "text": [
      "0: 384x640 1 person, 82.5ms\n",
      "Speed: 4.5ms preprocess, 82.5ms inference, 0.8ms postprocess per image at shape (1, 3, 384, 640)\n",
      "\n",
      "0: 384x640 1 person, 61.8ms\n",
      "Speed: 2.2ms preprocess, 61.8ms inference, 0.7ms postprocess per image at shape (1, 3, 384, 640)\n",
      "\n",
      "0: 384x640 1 person, 59.2ms\n",
      "Speed: 1.9ms preprocess, 59.2ms inference, 0.6ms postprocess per image at shape (1, 3, 384, 640)\n"
     ]
    },
    {
     "name": "stdout",
     "output_type": "stream",
     "text": [
      "bbox: [     464.95      191.21      896.52      714.66]\n",
      "region: [[100 100]\n",
      " [200 200]]\n",
      "bbox: [     465.51      191.26       910.7      714.54]\n",
      "region: [[100 100]\n",
      " [200 200]]\n",
      "bbox: [     464.73      191.14      875.02      714.69]\n",
      "region: [[100 100]\n",
      " [200 200]]\n"
     ]
    },
    {
     "name": "stderr",
     "output_type": "stream",
     "text": [
      "\n",
      "0: 384x640 1 person, 57.5ms\n",
      "Speed: 1.6ms preprocess, 57.5ms inference, 0.6ms postprocess per image at shape (1, 3, 384, 640)\n",
      "\n",
      "0: 384x640 1 person, 57.6ms\n",
      "Speed: 1.7ms preprocess, 57.6ms inference, 0.7ms postprocess per image at shape (1, 3, 384, 640)\n",
      "\n"
     ]
    },
    {
     "name": "stdout",
     "output_type": "stream",
     "text": [
      "bbox: [     464.39      191.86      892.08      714.57]\n",
      "region: [[100 100]\n",
      " [200 200]]\n",
      "bbox: [      466.4      192.65      885.11      714.76]\n",
      "region: [[100 100]\n",
      " [200 200]]\n"
     ]
    },
    {
     "name": "stderr",
     "output_type": "stream",
     "text": [
      "0: 384x640 1 person, 58.3ms\n",
      "Speed: 1.9ms preprocess, 58.3ms inference, 0.7ms postprocess per image at shape (1, 3, 384, 640)\n",
      "\n",
      "0: 384x640 1 person, 56.0ms\n",
      "Speed: 1.7ms preprocess, 56.0ms inference, 0.9ms postprocess per image at shape (1, 3, 384, 640)\n",
      "\n",
      "0: 384x640 1 person, 56.3ms\n"
     ]
    },
    {
     "name": "stdout",
     "output_type": "stream",
     "text": [
      "bbox: [     465.49       192.3      884.13      714.43]\n",
      "region: [[100 100]\n",
      " [200 200]]\n",
      "bbox: [     465.83      191.51      943.22      714.51]\n",
      "region: [[100 100]\n",
      " [200 200]]\n"
     ]
    },
    {
     "name": "stderr",
     "output_type": "stream",
     "text": [
      "Speed: 1.5ms preprocess, 56.3ms inference, 0.6ms postprocess per image at shape (1, 3, 384, 640)\n",
      "\n",
      "0: 384x640 1 person, 57.3ms\n",
      "Speed: 1.4ms preprocess, 57.3ms inference, 0.6ms postprocess per image at shape (1, 3, 384, 640)\n",
      "\n",
      "0: 384x640 1 person, 55.2ms\n",
      "Speed: 1.8ms preprocess, 55.2ms inference, 0.7ms postprocess per image at shape (1, 3, 384, 640)\n"
     ]
    },
    {
     "name": "stdout",
     "output_type": "stream",
     "text": [
      "bbox: [     465.34      191.21      903.81      714.54]\n",
      "region: [[100 100]\n",
      " [200 200]]\n",
      "bbox: [     465.14      191.06      923.67      714.62]\n",
      "region: [[100 100]\n",
      " [200 200]]\n",
      "bbox: [     465.45      191.17      916.22      714.71]\n",
      "region: [[100 100]\n",
      " [200 200]]\n"
     ]
    },
    {
     "name": "stderr",
     "output_type": "stream",
     "text": [
      "\n",
      "0: 384x640 1 person, 78.0ms\n",
      "Speed: 2.3ms preprocess, 78.0ms inference, 0.7ms postprocess per image at shape (1, 3, 384, 640)\n",
      "\n",
      "0: 384x640 1 person, 67.7ms\n",
      "Speed: 1.8ms preprocess, 67.7ms inference, 0.7ms postprocess per image at shape (1, 3, 384, 640)\n",
      "\n"
     ]
    },
    {
     "name": "stdout",
     "output_type": "stream",
     "text": [
      "bbox: [     465.09      191.34      954.96      714.72]\n",
      "region: [[100 100]\n",
      " [200 200]]\n",
      "bbox: [     466.11      191.98      882.02       714.9]\n",
      "region: [[100 100]\n",
      " [200 200]]\n"
     ]
    },
    {
     "name": "stderr",
     "output_type": "stream",
     "text": [
      "0: 384x640 1 person, 59.9ms\n",
      "Speed: 1.8ms preprocess, 59.9ms inference, 0.6ms postprocess per image at shape (1, 3, 384, 640)\n",
      "\n",
      "0: 384x640 1 person, 57.2ms\n",
      "Speed: 1.6ms preprocess, 57.2ms inference, 0.6ms postprocess per image at shape (1, 3, 384, 640)\n",
      "\n",
      "0: 384x640 1 person, 57.1ms\n",
      "Speed: 1.6ms preprocess, 57.1ms inference, 0.6ms postprocess per image at shape (1, 3, 384, 640)\n"
     ]
    },
    {
     "name": "stdout",
     "output_type": "stream",
     "text": [
      "bbox: [     465.82      191.72      870.59      714.74]\n",
      "region: [[100 100]\n",
      " [200 200]]\n",
      "bbox: [     464.67         191      918.41      714.61]\n",
      "region: [[100 100]\n",
      " [200 200]]\n"
     ]
    },
    {
     "name": "stderr",
     "output_type": "stream",
     "text": [
      "\n",
      "0: 384x640 1 person, 76.0ms\n",
      "Speed: 4.3ms preprocess, 76.0ms inference, 0.9ms postprocess per image at shape (1, 3, 384, 640)\n",
      "\n"
     ]
    },
    {
     "name": "stdout",
     "output_type": "stream",
     "text": [
      "bbox: [     465.14      190.63      931.94      714.14]\n",
      "region: [[100 100]\n",
      " [200 200]]\n",
      "bbox: [     464.36      190.31      927.66      714.45]\n",
      "region: [[100 100]\n",
      " [200 200]]\n"
     ]
    },
    {
     "name": "stderr",
     "output_type": "stream",
     "text": [
      "0: 384x640 1 person, 61.7ms\n",
      "Speed: 1.6ms preprocess, 61.7ms inference, 0.6ms postprocess per image at shape (1, 3, 384, 640)\n",
      "\n",
      "0: 384x640 1 person, 63.1ms\n",
      "Speed: 1.8ms preprocess, 63.1ms inference, 0.6ms postprocess per image at shape (1, 3, 384, 640)\n",
      "\n",
      "0: 384x640 1 person, 60.2ms\n",
      "Speed: 1.8ms preprocess, 60.2ms inference, 0.7ms postprocess per image at shape (1, 3, 384, 640)\n"
     ]
    },
    {
     "name": "stdout",
     "output_type": "stream",
     "text": [
      "bbox: [     463.18      190.12      969.35       714.4]\n",
      "region: [[100 100]\n",
      " [200 200]]\n",
      "bbox: [        464      190.04      972.02      714.24]\n",
      "region: [[100 100]\n",
      " [200 200]]\n",
      "bbox: [     462.19      189.88      933.08      714.16]\n",
      "region: [[100 100]\n",
      " [200 200]]\n"
     ]
    },
    {
     "name": "stderr",
     "output_type": "stream",
     "text": [
      "\n",
      "0: 384x640 1 person, 67.7ms\n",
      "Speed: 2.1ms preprocess, 67.7ms inference, 0.7ms postprocess per image at shape (1, 3, 384, 640)\n",
      "\n",
      "0: 384x640 1 person, 68.3ms\n",
      "Speed: 2.0ms preprocess, 68.3ms inference, 0.8ms postprocess per image at shape (1, 3, 384, 640)\n",
      "\n"
     ]
    },
    {
     "name": "stdout",
     "output_type": "stream",
     "text": [
      "bbox: [     463.02      189.78      939.44      713.82]\n",
      "region: [[100 100]\n",
      " [200 200]]\n",
      "bbox: [     462.33       189.6      965.03      714.09]\n",
      "region: [[100 100]\n",
      " [200 200]]\n"
     ]
    },
    {
     "name": "stderr",
     "output_type": "stream",
     "text": [
      "0: 384x640 1 person, 72.8ms\n",
      "Speed: 1.8ms preprocess, 72.8ms inference, 0.9ms postprocess per image at shape (1, 3, 384, 640)\n",
      "\n",
      "0: 384x640 1 person, 64.8ms\n",
      "Speed: 2.1ms preprocess, 64.8ms inference, 0.7ms postprocess per image at shape (1, 3, 384, 640)\n",
      "\n"
     ]
    },
    {
     "name": "stdout",
     "output_type": "stream",
     "text": [
      "bbox: [     463.05      189.98      972.21      713.82]\n",
      "region: [[100 100]\n",
      " [200 200]]\n",
      "bbox: [     464.43       190.2      935.05      714.33]\n",
      "region: [[100 100]\n",
      " [200 200]]\n"
     ]
    },
    {
     "name": "stderr",
     "output_type": "stream",
     "text": [
      "0: 384x640 1 person, 67.2ms\n",
      "Speed: 2.1ms preprocess, 67.2ms inference, 0.7ms postprocess per image at shape (1, 3, 384, 640)\n",
      "\n",
      "0: 384x640 1 person, 70.3ms\n",
      "Speed: 1.9ms preprocess, 70.3ms inference, 0.9ms postprocess per image at shape (1, 3, 384, 640)\n",
      "\n",
      "0: 384x640 1 person, 67.4ms\n",
      "Speed: 2.1ms preprocess, 67.4ms inference, 0.7ms postprocess per image at shape (1, 3, 384, 640)\n"
     ]
    },
    {
     "name": "stdout",
     "output_type": "stream",
     "text": [
      "bbox: [     465.79      189.47      882.34      714.77]\n",
      "region: [[100 100]\n",
      " [200 200]]\n",
      "bbox: [     465.73      190.48      873.16      714.53]\n",
      "region: [[100 100]\n",
      " [200 200]]\n"
     ]
    },
    {
     "name": "stderr",
     "output_type": "stream",
     "text": [
      "\n",
      "0: 384x640 1 person, 68.8ms\n",
      "Speed: 1.7ms preprocess, 68.8ms inference, 0.9ms postprocess per image at shape (1, 3, 384, 640)\n",
      "\n",
      "0: 384x640 1 person, 67.4ms\n",
      "Speed: 1.8ms preprocess, 67.4ms inference, 0.7ms postprocess per image at shape (1, 3, 384, 640)\n"
     ]
    },
    {
     "name": "stdout",
     "output_type": "stream",
     "text": [
      "bbox: [     463.41       189.8       909.3      714.36]\n",
      "region: [[100 100]\n",
      " [200 200]]\n",
      "bbox: [     464.11      189.09      968.54      713.92]\n",
      "region: [[100 100]\n",
      " [200 200]]\n",
      "bbox: [     464.33         189      967.71      713.88]\n",
      "region: [[100 100]\n",
      " [200 200]]\n"
     ]
    },
    {
     "name": "stderr",
     "output_type": "stream",
     "text": [
      "\n",
      "0: 384x640 1 person, 85.3ms\n",
      "Speed: 2.3ms preprocess, 85.3ms inference, 1.4ms postprocess per image at shape (1, 3, 384, 640)\n",
      "\n"
     ]
    },
    {
     "name": "stdout",
     "output_type": "stream",
     "text": [
      "bbox: [     463.08      189.94      973.34      714.15]\n",
      "region: [[100 100]\n",
      " [200 200]]\n"
     ]
    },
    {
     "name": "stderr",
     "output_type": "stream",
     "text": [
      "0: 384x640 1 person, 159.8ms\n",
      "Speed: 3.0ms preprocess, 159.8ms inference, 2.5ms postprocess per image at shape (1, 3, 384, 640)\n",
      "\n"
     ]
    },
    {
     "name": "stdout",
     "output_type": "stream",
     "text": [
      "bbox: [     463.18      190.42      961.23      714.27]\n",
      "region: [[100 100]\n",
      " [200 200]]\n"
     ]
    },
    {
     "name": "stderr",
     "output_type": "stream",
     "text": [
      "0: 384x640 1 person, 344.9ms\n",
      "Speed: 8.0ms preprocess, 344.9ms inference, 2.5ms postprocess per image at shape (1, 3, 384, 640)\n",
      "\n",
      "0: 384x640 1 person, 120.5ms\n",
      "Speed: 3.0ms preprocess, 120.5ms inference, 1.0ms postprocess per image at shape (1, 3, 384, 640)\n",
      "\n"
     ]
    },
    {
     "name": "stdout",
     "output_type": "stream",
     "text": [
      "bbox: [     465.85      189.63      879.57      714.35]\n",
      "region: [[100 100]\n",
      " [200 200]]\n",
      "bbox: [     470.54      190.33      875.58      714.57]\n",
      "region: [[100 100]\n",
      " [200 200]]\n"
     ]
    },
    {
     "name": "stderr",
     "output_type": "stream",
     "text": [
      "0: 384x640 1 person, 92.0ms\n",
      "Speed: 3.2ms preprocess, 92.0ms inference, 1.2ms postprocess per image at shape (1, 3, 384, 640)\n",
      "\n",
      "0: 384x640 1 person, 109.7ms\n",
      "Speed: 2.5ms preprocess, 109.7ms inference, 6.7ms postprocess per image at shape (1, 3, 384, 640)\n",
      "\n"
     ]
    },
    {
     "name": "stdout",
     "output_type": "stream",
     "text": [
      "bbox: [     470.82      189.72      879.42      714.67]\n",
      "region: [[100 100]\n",
      " [200 200]]\n",
      "bbox: [     470.62      189.65      879.85      714.66]\n",
      "region: [[100 100]\n",
      " [200 200]]\n"
     ]
    },
    {
     "name": "stderr",
     "output_type": "stream",
     "text": [
      "0: 384x640 1 person, 82.0ms\n",
      "Speed: 5.8ms preprocess, 82.0ms inference, 0.8ms postprocess per image at shape (1, 3, 384, 640)\n",
      "\n",
      "0: 384x640 1 person, 70.0ms\n",
      "Speed: 1.8ms preprocess, 70.0ms inference, 1.0ms postprocess per image at shape (1, 3, 384, 640)\n",
      "\n"
     ]
    },
    {
     "name": "stdout",
     "output_type": "stream",
     "text": [
      "bbox: [     469.87      188.94       883.4      714.22]\n",
      "region: [[100 100]\n",
      " [200 200]]\n",
      "bbox: [     470.51      189.53      884.99      714.52]\n",
      "region: [[100 100]\n",
      " [200 200]]\n"
     ]
    },
    {
     "name": "stderr",
     "output_type": "stream",
     "text": [
      "0: 384x640 1 person, 74.1ms\n",
      "Speed: 1.9ms preprocess, 74.1ms inference, 0.8ms postprocess per image at shape (1, 3, 384, 640)\n",
      "\n",
      "0: 384x640 1 person, 60.8ms\n",
      "Speed: 1.7ms preprocess, 60.8ms inference, 0.9ms postprocess per image at shape (1, 3, 384, 640)\n",
      "\n"
     ]
    },
    {
     "name": "stdout",
     "output_type": "stream",
     "text": [
      "bbox: [     471.24      190.49       889.5      714.64]\n",
      "region: [[100 100]\n",
      " [200 200]]\n",
      "bbox: [     472.39      189.44      924.04      714.42]\n",
      "region: [[100 100]\n",
      " [200 200]]\n"
     ]
    },
    {
     "name": "stderr",
     "output_type": "stream",
     "text": [
      "0: 384x640 1 person, 55.9ms\n",
      "Speed: 1.9ms preprocess, 55.9ms inference, 0.7ms postprocess per image at shape (1, 3, 384, 640)\n",
      "\n",
      "0: 384x640 1 person, 60.6ms\n",
      "Speed: 2.1ms preprocess, 60.6ms inference, 0.6ms postprocess per image at shape (1, 3, 384, 640)\n",
      "\n",
      "0: 384x640 1 person, 55.3ms\n",
      "Speed: 1.5ms preprocess, 55.3ms inference, 0.6ms postprocess per image at shape (1, 3, 384, 640)\n"
     ]
    },
    {
     "name": "stdout",
     "output_type": "stream",
     "text": [
      "bbox: [     471.77      189.76      902.67      714.65]\n",
      "region: [[100 100]\n",
      " [200 200]]\n",
      "bbox: [     471.34      190.05      908.49       714.5]\n",
      "region: [[100 100]\n",
      " [200 200]]\n",
      "bbox: [     471.32      189.81      946.23       714.3]\n",
      "region: [[100 100]\n",
      " [200 200]]\n"
     ]
    },
    {
     "name": "stderr",
     "output_type": "stream",
     "text": [
      "\n",
      "0: 384x640 1 person, 60.9ms\n",
      "Speed: 1.7ms preprocess, 60.9ms inference, 0.8ms postprocess per image at shape (1, 3, 384, 640)\n",
      "\n",
      "0: 384x640 1 person, 66.8ms\n",
      "Speed: 1.9ms preprocess, 66.8ms inference, 0.7ms postprocess per image at shape (1, 3, 384, 640)\n"
     ]
    },
    {
     "name": "stdout",
     "output_type": "stream",
     "text": [
      "bbox: [     473.13      189.21      969.02      713.51]\n",
      "region: [[100 100]\n",
      " [200 200]]\n",
      "bbox: [     476.52      187.28      940.73      713.67]\n",
      "region: [[100 100]\n",
      " [200 200]]\n"
     ]
    },
    {
     "name": "stderr",
     "output_type": "stream",
     "text": [
      "\n",
      "0: 384x640 1 person, 66.4ms\n",
      "Speed: 1.8ms preprocess, 66.4ms inference, 0.8ms postprocess per image at shape (1, 3, 384, 640)\n",
      "\n",
      "0: 384x640 1 person, 55.0ms\n",
      "Speed: 1.5ms preprocess, 55.0ms inference, 0.6ms postprocess per image at shape (1, 3, 384, 640)\n",
      "\n",
      "0: 384x640 1 person, 54.4ms\n",
      "Speed: 1.6ms preprocess, 54.4ms inference, 0.6ms postprocess per image at shape (1, 3, 384, 640)\n"
     ]
    },
    {
     "name": "stdout",
     "output_type": "stream",
     "text": [
      "bbox: [     482.27       189.3      905.46      714.89]\n",
      "region: [[100 100]\n",
      " [200 200]]\n",
      "bbox: [     482.84      194.54      927.96      714.12]\n",
      "region: [[100 100]\n",
      " [200 200]]\n",
      "bbox: [     487.46      199.17      948.77      713.63]\n",
      "region: [[100 100]\n",
      " [200 200]]\n"
     ]
    },
    {
     "name": "stderr",
     "output_type": "stream",
     "text": [
      "\n",
      "0: 384x640 1 person, 54.4ms\n",
      "Speed: 1.8ms preprocess, 54.4ms inference, 0.6ms postprocess per image at shape (1, 3, 384, 640)\n",
      "\n",
      "0: 384x640 1 person, 53.2ms\n",
      "Speed: 1.6ms preprocess, 53.2ms inference, 0.6ms postprocess per image at shape (1, 3, 384, 640)\n",
      "\n",
      "0: 384x640 1 person, 55.4ms\n",
      "Speed: 1.8ms preprocess, 55.4ms inference, 0.6ms postprocess per image at shape (1, 3, 384, 640)\n"
     ]
    },
    {
     "name": "stdout",
     "output_type": "stream",
     "text": [
      "bbox: [      485.3       203.8      940.63      713.48]\n",
      "region: [[100 100]\n",
      " [200 200]]\n",
      "bbox: [     477.83      205.47       963.5      713.55]\n",
      "region: [[100 100]\n",
      " [200 200]]\n",
      "bbox: [     469.31      206.74      865.85      712.06]\n",
      "region: [[100 100]\n",
      " [200 200]]\n"
     ]
    },
    {
     "name": "stderr",
     "output_type": "stream",
     "text": [
      "\n",
      "0: 384x640 1 person, 56.3ms\n",
      "Speed: 1.5ms preprocess, 56.3ms inference, 0.6ms postprocess per image at shape (1, 3, 384, 640)\n",
      "\n",
      "0: 384x640 1 person, 86.7ms\n",
      "Speed: 2.3ms preprocess, 86.7ms inference, 0.7ms postprocess per image at shape (1, 3, 384, 640)\n",
      "\n"
     ]
    },
    {
     "name": "stdout",
     "output_type": "stream",
     "text": [
      "bbox: [     458.05       211.1      836.44      712.41]\n",
      "region: [[100 100]\n",
      " [200 200]]\n",
      "bbox: [      449.7       213.2      826.91       712.9]\n",
      "region: [[100 100]\n",
      " [200 200]]\n"
     ]
    },
    {
     "name": "stderr",
     "output_type": "stream",
     "text": [
      "0: 384x640 1 person, 63.5ms\n",
      "Speed: 1.8ms preprocess, 63.5ms inference, 0.6ms postprocess per image at shape (1, 3, 384, 640)\n",
      "\n",
      "0: 384x640 1 person, 83.2ms\n",
      "Speed: 2.1ms preprocess, 83.2ms inference, 1.0ms postprocess per image at shape (1, 3, 384, 640)\n",
      "\n"
     ]
    },
    {
     "name": "stdout",
     "output_type": "stream",
     "text": [
      "bbox: [     447.59      216.69      817.83      713.23]\n",
      "region: [[100 100]\n",
      " [200 200]]\n",
      "bbox: [     446.55      217.96      846.72      713.53]\n",
      "region: [[100 100]\n",
      " [200 200]]\n"
     ]
    },
    {
     "name": "stderr",
     "output_type": "stream",
     "text": [
      "0: 384x640 1 person, 97.8ms\n",
      "Speed: 2.8ms preprocess, 97.8ms inference, 1.0ms postprocess per image at shape (1, 3, 384, 640)\n",
      "\n",
      "0: 384x640 2 persons, 75.5ms\n",
      "Speed: 2.4ms preprocess, 75.5ms inference, 0.7ms postprocess per image at shape (1, 3, 384, 640)\n",
      "\n"
     ]
    },
    {
     "name": "stdout",
     "output_type": "stream",
     "text": [
      "bbox: [     446.79      219.25      808.89      713.53]\n",
      "region: [[100 100]\n",
      " [200 200]]\n",
      "bbox: [     447.61      219.31      809.16      713.53]\n",
      "region: [[100 100]\n",
      " [200 200]]\n"
     ]
    },
    {
     "name": "stderr",
     "output_type": "stream",
     "text": [
      "0: 384x640 3 persons, 60.2ms\n",
      "Speed: 1.7ms preprocess, 60.2ms inference, 0.6ms postprocess per image at shape (1, 3, 384, 640)\n",
      "\n",
      "0: 384x640 2 persons, 84.7ms\n",
      "Speed: 2.5ms preprocess, 84.7ms inference, 0.9ms postprocess per image at shape (1, 3, 384, 640)\n",
      "\n"
     ]
    },
    {
     "name": "stdout",
     "output_type": "stream",
     "text": [
      "bbox: [     447.65      218.92      809.39      713.51]\n",
      "region: [[100 100]\n",
      " [200 200]]\n",
      "bbox: [     448.22      218.63      809.62      713.28]\n",
      "region: [[100 100]\n",
      " [200 200]]\n"
     ]
    },
    {
     "name": "stderr",
     "output_type": "stream",
     "text": [
      "0: 384x640 2 persons, 63.5ms\n",
      "Speed: 1.7ms preprocess, 63.5ms inference, 0.6ms postprocess per image at shape (1, 3, 384, 640)\n",
      "\n",
      "0: 384x640 2 persons, 60.4ms\n",
      "Speed: 1.9ms preprocess, 60.4ms inference, 0.6ms postprocess per image at shape (1, 3, 384, 640)\n",
      "\n",
      "0: 384x640 1 person, 54.1ms\n",
      "Speed: 1.8ms preprocess, 54.1ms inference, 0.6ms postprocess per image at shape (1, 3, 384, 640)\n"
     ]
    },
    {
     "name": "stdout",
     "output_type": "stream",
     "text": [
      "bbox: [     450.45      220.88      816.44      713.29]\n",
      "region: [[100 100]\n",
      " [200 200]]\n",
      "bbox: [     457.19      229.44      808.45       712.8]\n",
      "region: [[100 100]\n",
      " [200 200]]\n",
      "bbox: [     464.34      242.65      803.58      713.37]\n",
      "region: [[100 100]\n",
      " [200 200]]\n"
     ]
    },
    {
     "name": "stderr",
     "output_type": "stream",
     "text": [
      "\n",
      "0: 384x640 1 person, 54.1ms\n",
      "Speed: 1.9ms preprocess, 54.1ms inference, 0.6ms postprocess per image at shape (1, 3, 384, 640)\n",
      "\n",
      "0: 384x640 1 person, 52.3ms\n",
      "Speed: 1.4ms preprocess, 52.3ms inference, 0.6ms postprocess per image at shape (1, 3, 384, 640)\n",
      "\n",
      "0: 384x640 1 person, 53.8ms\n",
      "Speed: 1.7ms preprocess, 53.8ms inference, 0.6ms postprocess per image at shape (1, 3, 384, 640)\n"
     ]
    },
    {
     "name": "stdout",
     "output_type": "stream",
     "text": [
      "bbox: [     469.04      256.69      796.13      713.58]\n",
      "region: [[100 100]\n",
      " [200 200]]\n",
      "bbox: [     426.66      237.96      1023.4      712.71]\n",
      "region: [[100 100]\n",
      " [200 200]]\n"
     ]
    },
    {
     "name": "stderr",
     "output_type": "stream",
     "text": [
      "\n",
      "0: 384x640 1 person, 54.1ms\n",
      "Speed: 1.8ms preprocess, 54.1ms inference, 0.6ms postprocess per image at shape (1, 3, 384, 640)\n",
      "\n",
      "0: 384x640 1 person, 53.3ms\n",
      "Speed: 1.7ms preprocess, 53.3ms inference, 0.6ms postprocess per image at shape (1, 3, 384, 640)\n"
     ]
    },
    {
     "name": "stdout",
     "output_type": "stream",
     "text": [
      "bbox: [     285.27       165.6      1107.3       712.8]\n",
      "region: [[100 100]\n",
      " [200 200]]\n",
      "bbox: [     248.91      14.485      1115.3      711.82]\n",
      "region: [[100 100]\n",
      " [200 200]]\n",
      "bbox: [     264.43      42.332      1130.4      712.69]\n",
      "region: [[100 100]\n",
      " [200 200]]\n"
     ]
    },
    {
     "name": "stderr",
     "output_type": "stream",
     "text": [
      "\n",
      "0: 384x640 1 person, 53.5ms\n",
      "Speed: 1.8ms preprocess, 53.5ms inference, 0.6ms postprocess per image at shape (1, 3, 384, 640)\n",
      "\n",
      "0: 384x640 1 person, 56.1ms\n",
      "Speed: 1.7ms preprocess, 56.1ms inference, 0.6ms postprocess per image at shape (1, 3, 384, 640)\n",
      "\n",
      "0: 384x640 1 person, 53.8ms\n",
      "Speed: 1.5ms preprocess, 53.8ms inference, 0.6ms postprocess per image at shape (1, 3, 384, 640)\n"
     ]
    },
    {
     "name": "stdout",
     "output_type": "stream",
     "text": [
      "bbox: [     280.91      42.422      1131.7      713.64]\n",
      "region: [[100 100]\n",
      " [200 200]]\n",
      "bbox: [     285.02      71.463      1130.6      713.83]\n",
      "region: [[100 100]\n",
      " [200 200]]\n"
     ]
    },
    {
     "name": "stderr",
     "output_type": "stream",
     "text": [
      "\n",
      "0: 384x640 1 person, 53.9ms\n",
      "Speed: 1.8ms preprocess, 53.9ms inference, 0.6ms postprocess per image at shape (1, 3, 384, 640)\n",
      "\n"
     ]
    },
    {
     "name": "stdout",
     "output_type": "stream",
     "text": [
      "bbox: [     287.41      92.159      1124.7      713.73]\n",
      "region: [[100 100]\n",
      " [200 200]]\n",
      "bbox: [     292.01      114.01        1108      713.73]\n",
      "region: [[100 100]\n",
      " [200 200]]\n"
     ]
    },
    {
     "name": "stderr",
     "output_type": "stream",
     "text": [
      "0: 384x640 1 person, 58.1ms\n",
      "Speed: 1.6ms preprocess, 58.1ms inference, 0.6ms postprocess per image at shape (1, 3, 384, 640)\n",
      "\n",
      "0: 384x640 1 person, 53.3ms\n",
      "Speed: 1.7ms preprocess, 53.3ms inference, 0.6ms postprocess per image at shape (1, 3, 384, 640)\n",
      "\n",
      "0: 384x640 1 person, 53.3ms\n",
      "Speed: 1.6ms preprocess, 53.3ms inference, 0.6ms postprocess per image at shape (1, 3, 384, 640)\n"
     ]
    },
    {
     "name": "stdout",
     "output_type": "stream",
     "text": [
      "bbox: [      295.2      134.74      1102.3      715.17]\n",
      "region: [[100 100]\n",
      " [200 200]]\n",
      "bbox: [     309.36       146.5      1098.8      715.79]\n",
      "region: [[100 100]\n",
      " [200 200]]\n",
      "bbox: [     316.85      155.24      1093.8      714.72]\n",
      "region: [[100 100]\n",
      " [200 200]]\n"
     ]
    },
    {
     "name": "stderr",
     "output_type": "stream",
     "text": [
      "\n",
      "0: 384x640 1 person, 54.1ms\n",
      "Speed: 1.7ms preprocess, 54.1ms inference, 0.6ms postprocess per image at shape (1, 3, 384, 640)\n",
      "\n",
      "0: 384x640 1 person, 53.4ms\n",
      "Speed: 1.6ms preprocess, 53.4ms inference, 0.6ms postprocess per image at shape (1, 3, 384, 640)\n",
      "\n",
      "0: 384x640 1 person, 53.2ms\n",
      "Speed: 1.6ms preprocess, 53.2ms inference, 0.6ms postprocess per image at shape (1, 3, 384, 640)\n"
     ]
    },
    {
     "name": "stdout",
     "output_type": "stream",
     "text": [
      "bbox: [     319.28      158.22        1090      716.93]\n",
      "region: [[100 100]\n",
      " [200 200]]\n",
      "bbox: [     315.65      157.91      1089.3      716.44]\n",
      "region: [[100 100]\n",
      " [200 200]]\n",
      "bbox: [     314.52      154.94      1089.4       716.4]\n",
      "region: [[100 100]\n",
      " [200 200]]\n"
     ]
    },
    {
     "name": "stderr",
     "output_type": "stream",
     "text": [
      "\n",
      "0: 384x640 1 person, 52.9ms\n",
      "Speed: 1.6ms preprocess, 52.9ms inference, 0.6ms postprocess per image at shape (1, 3, 384, 640)\n",
      "\n",
      "0: 384x640 1 person, 54.5ms\n",
      "Speed: 1.8ms preprocess, 54.5ms inference, 0.6ms postprocess per image at shape (1, 3, 384, 640)\n",
      "\n",
      "0: 384x640 1 person, 52.7ms\n",
      "Speed: 1.8ms preprocess, 52.7ms inference, 0.7ms postprocess per image at shape (1, 3, 384, 640)\n"
     ]
    },
    {
     "name": "stdout",
     "output_type": "stream",
     "text": [
      "bbox: [     313.89       151.6      1091.4      717.18]\n",
      "region: [[100 100]\n",
      " [200 200]]\n",
      "bbox: [     311.61      149.68      1090.3      715.79]\n",
      "region: [[100 100]\n",
      " [200 200]]\n",
      "bbox: [     312.08      150.09      1089.7      714.52]\n",
      "region: [[100 100]\n",
      " [200 200]]\n"
     ]
    },
    {
     "name": "stderr",
     "output_type": "stream",
     "text": [
      "\n",
      "0: 384x640 1 person, 52.7ms\n",
      "Speed: 1.6ms preprocess, 52.7ms inference, 0.6ms postprocess per image at shape (1, 3, 384, 640)\n",
      "\n",
      "0: 384x640 1 person, 1 remote, 53.5ms\n",
      "Speed: 1.6ms preprocess, 53.5ms inference, 0.6ms postprocess per image at shape (1, 3, 384, 640)\n",
      "\n"
     ]
    },
    {
     "name": "stdout",
     "output_type": "stream",
     "text": [
      "bbox: [     309.85      150.31        1091      713.84]\n",
      "region: [[100 100]\n",
      " [200 200]]\n",
      "bbox: [     295.81       150.5      1086.6       714.8]\n",
      "region: [[100 100]\n",
      " [200 200]]\n"
     ]
    },
    {
     "name": "stderr",
     "output_type": "stream",
     "text": [
      "0: 384x640 1 person, 56.7ms\n",
      "Speed: 1.7ms preprocess, 56.7ms inference, 0.6ms postprocess per image at shape (1, 3, 384, 640)\n",
      "\n",
      "0: 384x640 1 person, 52.7ms\n",
      "Speed: 1.7ms preprocess, 52.7ms inference, 0.6ms postprocess per image at shape (1, 3, 384, 640)\n",
      "\n",
      "0: 384x640 1 person, 54.8ms\n",
      "Speed: 1.7ms preprocess, 54.8ms inference, 0.6ms postprocess per image at shape (1, 3, 384, 640)\n"
     ]
    },
    {
     "name": "stdout",
     "output_type": "stream",
     "text": [
      "bbox: [     242.15      150.57      1070.9      714.73]\n",
      "region: [[100 100]\n",
      " [200 200]]\n",
      "bbox: [     215.63      150.82      1069.8      716.22]\n",
      "region: [[100 100]\n",
      " [200 200]]\n",
      "bbox: [     198.26      151.15      1066.2       716.1]\n",
      "region: [[100 100]\n",
      " [200 200]]\n"
     ]
    },
    {
     "name": "stderr",
     "output_type": "stream",
     "text": [
      "\n",
      "0: 384x640 1 person, 52.4ms\n",
      "Speed: 1.6ms preprocess, 52.4ms inference, 0.5ms postprocess per image at shape (1, 3, 384, 640)\n",
      "\n",
      "0: 384x640 1 person, 55.1ms\n",
      "Speed: 1.7ms preprocess, 55.1ms inference, 0.6ms postprocess per image at shape (1, 3, 384, 640)\n",
      "\n",
      "0: 384x640 1 person, 52.0ms\n",
      "Speed: 1.7ms preprocess, 52.0ms inference, 0.6ms postprocess per image at shape (1, 3, 384, 640)\n"
     ]
    },
    {
     "name": "stdout",
     "output_type": "stream",
     "text": [
      "bbox: [     182.54       151.2      1068.8      716.25]\n",
      "region: [[100 100]\n",
      " [200 200]]\n",
      "bbox: [     189.33      150.49      1066.1      717.05]\n",
      "region: [[100 100]\n",
      " [200 200]]\n"
     ]
    },
    {
     "name": "stderr",
     "output_type": "stream",
     "text": [
      "\n",
      "0: 384x640 1 person, 54.2ms\n",
      "Speed: 1.9ms preprocess, 54.2ms inference, 0.6ms postprocess per image at shape (1, 3, 384, 640)\n",
      "\n"
     ]
    },
    {
     "name": "stdout",
     "output_type": "stream",
     "text": [
      "bbox: [     196.97      151.74      1069.2      717.33]\n",
      "region: [[100 100]\n",
      " [200 200]]\n",
      "bbox: [     190.29      151.21      1068.2      717.99]\n",
      "region: [[100 100]\n",
      " [200 200]]\n"
     ]
    },
    {
     "name": "stderr",
     "output_type": "stream",
     "text": [
      "0: 384x640 1 person, 54.3ms\n",
      "Speed: 1.6ms preprocess, 54.3ms inference, 1.0ms postprocess per image at shape (1, 3, 384, 640)\n",
      "\n",
      "0: 384x640 1 person, 52.9ms\n",
      "Speed: 1.5ms preprocess, 52.9ms inference, 0.6ms postprocess per image at shape (1, 3, 384, 640)\n",
      "\n"
     ]
    },
    {
     "name": "stdout",
     "output_type": "stream",
     "text": [
      "bbox: [     196.53      151.64      1065.9       716.5]\n",
      "region: [[100 100]\n",
      " [200 200]]\n",
      "bbox: [     189.15      151.45      1063.8      716.69]\n",
      "region: [[100 100]\n",
      " [200 200]]\n"
     ]
    },
    {
     "name": "stderr",
     "output_type": "stream",
     "text": [
      "0: 384x640 1 person, 82.2ms\n",
      "Speed: 1.6ms preprocess, 82.2ms inference, 0.7ms postprocess per image at shape (1, 3, 384, 640)\n",
      "\n",
      "0: 384x640 1 person, 53.3ms\n",
      "Speed: 1.7ms preprocess, 53.3ms inference, 0.6ms postprocess per image at shape (1, 3, 384, 640)\n",
      "\n"
     ]
    },
    {
     "name": "stdout",
     "output_type": "stream",
     "text": [
      "bbox: [     191.57      151.98        1063       717.6]\n",
      "region: [[100 100]\n",
      " [200 200]]\n",
      "bbox: [     191.43      151.58      1062.9      717.24]\n",
      "region: [[100 100]\n",
      " [200 200]]\n"
     ]
    },
    {
     "name": "stderr",
     "output_type": "stream",
     "text": [
      "0: 384x640 1 person, 55.2ms\n",
      "Speed: 1.8ms preprocess, 55.2ms inference, 0.6ms postprocess per image at shape (1, 3, 384, 640)\n",
      "\n",
      "0: 384x640 1 person, 54.2ms\n",
      "Speed: 1.8ms preprocess, 54.2ms inference, 0.6ms postprocess per image at shape (1, 3, 384, 640)\n",
      "\n",
      "0: 384x640 1 person, 52.0ms\n",
      "Speed: 1.5ms preprocess, 52.0ms inference, 0.6ms postprocess per image at shape (1, 3, 384, 640)\n"
     ]
    },
    {
     "name": "stdout",
     "output_type": "stream",
     "text": [
      "bbox: [      191.4      150.32      1062.3      717.41]\n",
      "region: [[100 100]\n",
      " [200 200]]\n",
      "bbox: [     189.98      150.97      1062.5      717.74]\n",
      "region: [[100 100]\n",
      " [200 200]]\n",
      "bbox: [     195.69      152.53      1065.2      716.57]\n",
      "region: [[100 100]\n",
      " [200 200]]\n"
     ]
    },
    {
     "name": "stderr",
     "output_type": "stream",
     "text": [
      "\n",
      "0: 384x640 1 person, 54.8ms\n",
      "Speed: 1.6ms preprocess, 54.8ms inference, 0.6ms postprocess per image at shape (1, 3, 384, 640)\n",
      "\n",
      "0: 384x640 1 person, 54.0ms\n",
      "Speed: 1.6ms preprocess, 54.0ms inference, 0.6ms postprocess per image at shape (1, 3, 384, 640)\n",
      "\n",
      "0: 384x640 1 person, 53.7ms\n",
      "Speed: 1.5ms preprocess, 53.7ms inference, 0.6ms postprocess per image at shape (1, 3, 384, 640)\n"
     ]
    },
    {
     "name": "stdout",
     "output_type": "stream",
     "text": [
      "bbox: [     196.96       150.7      1066.5      716.53]\n",
      "region: [[100 100]\n",
      " [200 200]]\n",
      "bbox: [     199.71      150.31      1068.5      717.29]\n",
      "region: [[100 100]\n",
      " [200 200]]\n",
      "bbox: [     203.75      150.56      1067.4      716.99]\n",
      "region: [[100 100]\n",
      " [200 200]]\n"
     ]
    },
    {
     "name": "stderr",
     "output_type": "stream",
     "text": [
      "\n",
      "0: 384x640 1 person, 53.6ms\n",
      "Speed: 1.5ms preprocess, 53.6ms inference, 0.6ms postprocess per image at shape (1, 3, 384, 640)\n",
      "\n",
      "0: 384x640 1 person, 53.5ms\n",
      "Speed: 1.6ms preprocess, 53.5ms inference, 0.6ms postprocess per image at shape (1, 3, 384, 640)\n",
      "\n",
      "0: 384x640 1 person, 53.4ms\n",
      "Speed: 1.7ms preprocess, 53.4ms inference, 0.6ms postprocess per image at shape (1, 3, 384, 640)\n"
     ]
    },
    {
     "name": "stdout",
     "output_type": "stream",
     "text": [
      "bbox: [     205.27      150.11      1068.7      716.48]\n",
      "region: [[100 100]\n",
      " [200 200]]\n",
      "bbox: [        206      149.07      1066.9      716.53]\n",
      "region: [[100 100]\n",
      " [200 200]]\n"
     ]
    },
    {
     "name": "stderr",
     "output_type": "stream",
     "text": [
      "\n",
      "0: 384x640 1 person, 53.6ms\n",
      "Speed: 1.8ms preprocess, 53.6ms inference, 0.6ms postprocess per image at shape (1, 3, 384, 640)\n",
      "\n",
      "0: 384x640 1 person, 52.4ms\n",
      "Speed: 1.6ms preprocess, 52.4ms inference, 0.7ms postprocess per image at shape (1, 3, 384, 640)\n"
     ]
    },
    {
     "name": "stdout",
     "output_type": "stream",
     "text": [
      "bbox: [     209.07      150.13      1066.4      716.52]\n",
      "region: [[100 100]\n",
      " [200 200]]\n",
      "bbox: [     220.61      148.32      1073.7      715.96]\n",
      "region: [[100 100]\n",
      " [200 200]]\n",
      "bbox: [     236.69      147.14      1072.8      716.05]\n",
      "region: [[100 100]\n",
      " [200 200]]\n"
     ]
    },
    {
     "name": "stderr",
     "output_type": "stream",
     "text": [
      "\n",
      "0: 384x640 1 person, 53.7ms\n",
      "Speed: 1.5ms preprocess, 53.7ms inference, 0.6ms postprocess per image at shape (1, 3, 384, 640)\n",
      "\n",
      "0: 384x640 1 person, 52.0ms\n",
      "Speed: 1.6ms preprocess, 52.0ms inference, 0.6ms postprocess per image at shape (1, 3, 384, 640)\n",
      "\n",
      "0: 384x640 1 person, 52.8ms\n",
      "Speed: 1.7ms preprocess, 52.8ms inference, 0.6ms postprocess per image at shape (1, 3, 384, 640)\n"
     ]
    },
    {
     "name": "stdout",
     "output_type": "stream",
     "text": [
      "bbox: [     242.22      146.14      1068.1      714.67]\n",
      "region: [[100 100]\n",
      " [200 200]]\n",
      "bbox: [     237.61      145.31      1073.5      714.61]\n",
      "region: [[100 100]\n",
      " [200 200]]\n",
      "bbox: [     237.41      145.48      1065.2      714.83]\n",
      "region: [[100 100]\n",
      " [200 200]]\n"
     ]
    },
    {
     "name": "stderr",
     "output_type": "stream",
     "text": [
      "\n",
      "0: 384x640 1 person, 54.1ms\n",
      "Speed: 1.6ms preprocess, 54.1ms inference, 0.6ms postprocess per image at shape (1, 3, 384, 640)\n",
      "\n",
      "0: 384x640 1 person, 67.5ms\n",
      "Speed: 1.9ms preprocess, 67.5ms inference, 0.6ms postprocess per image at shape (1, 3, 384, 640)\n",
      "\n",
      "0: 384x640 1 person, 54.2ms\n"
     ]
    },
    {
     "name": "stdout",
     "output_type": "stream",
     "text": [
      "bbox: [     235.84       146.8      1067.1      714.96]\n",
      "region: [[100 100]\n",
      " [200 200]]\n",
      "bbox: [     235.53      149.53      1071.8      714.43]\n",
      "region: [[100 100]\n",
      " [200 200]]\n"
     ]
    },
    {
     "name": "stderr",
     "output_type": "stream",
     "text": [
      "Speed: 1.6ms preprocess, 54.2ms inference, 0.6ms postprocess per image at shape (1, 3, 384, 640)\n",
      "\n",
      "0: 384x640 1 person, 53.4ms\n",
      "Speed: 1.6ms preprocess, 53.4ms inference, 0.6ms postprocess per image at shape (1, 3, 384, 640)\n",
      "\n",
      "0: 384x640 1 person, 54.5ms\n",
      "Speed: 1.8ms preprocess, 54.5ms inference, 0.7ms postprocess per image at shape (1, 3, 384, 640)\n"
     ]
    },
    {
     "name": "stdout",
     "output_type": "stream",
     "text": [
      "bbox: [     228.75      152.73      1068.7      714.49]\n",
      "region: [[100 100]\n",
      " [200 200]]\n",
      "bbox: [     214.52      155.44      1070.7      715.56]\n",
      "region: [[100 100]\n",
      " [200 200]]\n"
     ]
    },
    {
     "name": "stderr",
     "output_type": "stream",
     "text": [
      "\n",
      "0: 384x640 1 person, 54.2ms\n",
      "Speed: 1.6ms preprocess, 54.2ms inference, 0.8ms postprocess per image at shape (1, 3, 384, 640)\n",
      "\n",
      "0: 384x640 1 person, 51.5ms\n",
      "Speed: 1.6ms preprocess, 51.5ms inference, 0.7ms postprocess per image at shape (1, 3, 384, 640)\n"
     ]
    },
    {
     "name": "stdout",
     "output_type": "stream",
     "text": [
      "bbox: [     195.95      156.62      1066.6      715.75]\n",
      "region: [[100 100]\n",
      " [200 200]]\n",
      "bbox: [     184.93      156.79      1066.8      716.35]\n",
      "region: [[100 100]\n",
      " [200 200]]\n",
      "bbox: [     155.28      155.39      1067.7      716.06]\n",
      "region: [[100 100]\n",
      " [200 200]]\n"
     ]
    },
    {
     "name": "stderr",
     "output_type": "stream",
     "text": [
      "\n",
      "0: 384x640 1 person, 53.3ms\n",
      "Speed: 1.7ms preprocess, 53.3ms inference, 0.8ms postprocess per image at shape (1, 3, 384, 640)\n",
      "\n",
      "0: 384x640 1 person, 54.1ms\n",
      "Speed: 1.6ms preprocess, 54.1ms inference, 0.6ms postprocess per image at shape (1, 3, 384, 640)\n",
      "\n",
      "0: 384x640 1 person, 52.8ms\n",
      "Speed: 1.8ms preprocess, 52.8ms inference, 0.6ms postprocess per image at shape (1, 3, 384, 640)\n"
     ]
    },
    {
     "name": "stdout",
     "output_type": "stream",
     "text": [
      "bbox: [     153.74      151.84      1063.3      716.87]\n",
      "region: [[100 100]\n",
      " [200 200]]\n",
      "bbox: [     145.77       151.3      1069.2      715.88]\n",
      "region: [[100 100]\n",
      " [200 200]]\n",
      "bbox: [      147.8      150.63      1067.6      716.13]\n",
      "region: [[100 100]\n",
      " [200 200]]\n"
     ]
    },
    {
     "name": "stderr",
     "output_type": "stream",
     "text": [
      "\n",
      "0: 384x640 1 person, 54.5ms\n",
      "Speed: 1.7ms preprocess, 54.5ms inference, 0.8ms postprocess per image at shape (1, 3, 384, 640)\n",
      "\n",
      "0: 384x640 1 person, 60.0ms\n",
      "Speed: 1.8ms preprocess, 60.0ms inference, 0.6ms postprocess per image at shape (1, 3, 384, 640)\n",
      "\n",
      "0: 384x640 1 person, 54.6ms\n",
      "Speed: 1.5ms preprocess, 54.6ms inference, 0.6ms postprocess per image at shape (1, 3, 384, 640)\n"
     ]
    },
    {
     "name": "stdout",
     "output_type": "stream",
     "text": [
      "bbox: [     147.89      150.72      1064.8      716.05]\n",
      "region: [[100 100]\n",
      " [200 200]]\n",
      "bbox: [     148.51      151.13      1066.8      716.02]\n",
      "region: [[100 100]\n",
      " [200 200]]\n"
     ]
    },
    {
     "name": "stderr",
     "output_type": "stream",
     "text": [
      "\n",
      "0: 384x640 1 person, 54.8ms\n",
      "Speed: 1.5ms preprocess, 54.8ms inference, 0.6ms postprocess per image at shape (1, 3, 384, 640)\n",
      "\n",
      "0: 384x640 1 person, 53.2ms\n",
      "Speed: 1.4ms preprocess, 53.2ms inference, 0.6ms postprocess per image at shape (1, 3, 384, 640)\n"
     ]
    },
    {
     "name": "stdout",
     "output_type": "stream",
     "text": [
      "bbox: [     141.72      152.84      1066.5      717.18]\n",
      "region: [[100 100]\n",
      " [200 200]]\n",
      "bbox: [     153.75      152.85      1067.8      716.71]\n",
      "region: [[100 100]\n",
      " [200 200]]\n",
      "bbox: [     171.02      153.03        1071      717.36]\n",
      "region: [[100 100]\n",
      " [200 200]]\n"
     ]
    },
    {
     "name": "stderr",
     "output_type": "stream",
     "text": [
      "\n",
      "0: 384x640 1 person, 52.8ms\n",
      "Speed: 1.7ms preprocess, 52.8ms inference, 0.8ms postprocess per image at shape (1, 3, 384, 640)\n",
      "\n",
      "0: 384x640 1 person, 54.2ms\n",
      "Speed: 1.6ms preprocess, 54.2ms inference, 0.6ms postprocess per image at shape (1, 3, 384, 640)\n",
      "\n",
      "0: 384x640 1 person, 53.1ms\n",
      "Speed: 1.8ms preprocess, 53.1ms inference, 0.6ms postprocess per image at shape (1, 3, 384, 640)\n"
     ]
    },
    {
     "name": "stdout",
     "output_type": "stream",
     "text": [
      "bbox: [     261.13      154.25        1068      715.57]\n",
      "region: [[100 100]\n",
      " [200 200]]\n",
      "bbox: [     304.75      155.61      1075.2      715.46]\n",
      "region: [[100 100]\n",
      " [200 200]]\n"
     ]
    },
    {
     "name": "stderr",
     "output_type": "stream",
     "text": [
      "\n",
      "0: 384x640 1 person, 54.9ms\n",
      "Speed: 1.8ms preprocess, 54.9ms inference, 0.6ms postprocess per image at shape (1, 3, 384, 640)\n",
      "\n",
      "0: 384x640 1 person, 51.8ms\n",
      "Speed: 1.6ms preprocess, 51.8ms inference, 0.7ms postprocess per image at shape (1, 3, 384, 640)\n"
     ]
    },
    {
     "name": "stdout",
     "output_type": "stream",
     "text": [
      "bbox: [     311.71       158.6      1079.1      715.14]\n",
      "region: [[100 100]\n",
      " [200 200]]\n",
      "bbox: [     330.29      161.64      1083.3      714.82]\n",
      "region: [[100 100]\n",
      " [200 200]]\n",
      "bbox: [     338.61      164.18      1084.5      714.69]\n",
      "region: [[100 100]\n",
      " [200 200]]\n"
     ]
    },
    {
     "name": "stderr",
     "output_type": "stream",
     "text": [
      "\n",
      "0: 384x640 1 person, 53.0ms\n",
      "Speed: 1.6ms preprocess, 53.0ms inference, 0.6ms postprocess per image at shape (1, 3, 384, 640)\n",
      "\n",
      "0: 384x640 1 person, 60.4ms\n",
      "Speed: 1.7ms preprocess, 60.4ms inference, 0.8ms postprocess per image at shape (1, 3, 384, 640)\n",
      "\n",
      "0: 384x640 1 person, 53.5ms\n",
      "Speed: 1.6ms preprocess, 53.5ms inference, 0.6ms postprocess per image at shape (1, 3, 384, 640)\n"
     ]
    },
    {
     "name": "stdout",
     "output_type": "stream",
     "text": [
      "bbox: [     342.12      164.26      1085.4       714.6]\n",
      "region: [[100 100]\n",
      " [200 200]]\n",
      "bbox: [     339.23      165.97      1082.4      714.84]\n",
      "region: [[100 100]\n",
      " [200 200]]\n"
     ]
    },
    {
     "name": "stderr",
     "output_type": "stream",
     "text": [
      "\n",
      "0: 384x640 1 person, 54.0ms\n",
      "Speed: 1.6ms preprocess, 54.0ms inference, 0.6ms postprocess per image at shape (1, 3, 384, 640)\n",
      "\n",
      "0: 384x640 1 person, 53.4ms\n",
      "Speed: 1.6ms preprocess, 53.4ms inference, 0.6ms postprocess per image at shape (1, 3, 384, 640)\n"
     ]
    },
    {
     "name": "stdout",
     "output_type": "stream",
     "text": [
      "bbox: [     333.99      169.51      1076.8      715.12]\n",
      "region: [[100 100]\n",
      " [200 200]]\n",
      "bbox: [      331.7      173.52      1075.4      714.86]\n",
      "region: [[100 100]\n",
      " [200 200]]\n",
      "bbox: [     328.99      176.52      1074.6      715.01]\n",
      "region: [[100 100]\n",
      " [200 200]]\n"
     ]
    },
    {
     "name": "stderr",
     "output_type": "stream",
     "text": [
      "\n",
      "0: 384x640 1 person, 54.2ms\n",
      "Speed: 1.5ms preprocess, 54.2ms inference, 0.6ms postprocess per image at shape (1, 3, 384, 640)\n",
      "\n",
      "0: 384x640 1 person, 53.5ms\n",
      "Speed: 1.8ms preprocess, 53.5ms inference, 0.6ms postprocess per image at shape (1, 3, 384, 640)\n",
      "\n",
      "0: 384x640 1 person, 53.1ms\n",
      "Speed: 1.6ms preprocess, 53.1ms inference, 0.7ms postprocess per image at shape (1, 3, 384, 640)\n"
     ]
    },
    {
     "name": "stdout",
     "output_type": "stream",
     "text": [
      "bbox: [     326.06      179.76      1075.7      715.33]\n",
      "region: [[100 100]\n",
      " [200 200]]\n",
      "bbox: [      325.5      178.27      1076.4      715.15]\n",
      "region: [[100 100]\n",
      " [200 200]]\n",
      "bbox: [     315.65       175.3      1073.1      715.93]\n",
      "region: [[100 100]\n",
      " [200 200]]\n"
     ]
    },
    {
     "name": "stderr",
     "output_type": "stream",
     "text": [
      "\n",
      "0: 384x640 1 person, 56.0ms\n",
      "Speed: 1.9ms preprocess, 56.0ms inference, 0.6ms postprocess per image at shape (1, 3, 384, 640)\n",
      "\n",
      "0: 384x640 1 person, 53.7ms\n",
      "Speed: 1.5ms preprocess, 53.7ms inference, 0.6ms postprocess per image at shape (1, 3, 384, 640)\n",
      "\n",
      "0: 384x640 1 person, 53.1ms\n",
      "Speed: 1.8ms preprocess, 53.1ms inference, 0.6ms postprocess per image at shape (1, 3, 384, 640)\n"
     ]
    },
    {
     "name": "stdout",
     "output_type": "stream",
     "text": [
      "bbox: [     291.65      173.98      1072.5      715.44]\n",
      "region: [[100 100]\n",
      " [200 200]]\n",
      "bbox: [     271.38      167.97      1073.7      716.14]\n",
      "region: [[100 100]\n",
      " [200 200]]\n",
      "bbox: [     257.32      162.85      1081.9      715.43]\n",
      "region: [[100 100]\n",
      " [200 200]]\n"
     ]
    },
    {
     "name": "stderr",
     "output_type": "stream",
     "text": [
      "\n",
      "0: 384x640 1 person, 54.1ms\n",
      "Speed: 1.5ms preprocess, 54.1ms inference, 0.6ms postprocess per image at shape (1, 3, 384, 640)\n",
      "\n",
      "0: 384x640 1 person, 53.2ms\n",
      "Speed: 1.7ms preprocess, 53.2ms inference, 0.6ms postprocess per image at shape (1, 3, 384, 640)\n",
      "\n",
      "0: 384x640 1 person, 55.2ms\n"
     ]
    },
    {
     "name": "stdout",
     "output_type": "stream",
     "text": [
      "bbox: [     246.13      154.91      1080.5      714.69]\n",
      "region: [[100 100]\n",
      " [200 200]]\n",
      "bbox: [      237.3      142.22      1081.9      714.01]\n",
      "region: [[100 100]\n",
      " [200 200]]\n"
     ]
    },
    {
     "name": "stderr",
     "output_type": "stream",
     "text": [
      "Speed: 1.6ms preprocess, 55.2ms inference, 0.6ms postprocess per image at shape (1, 3, 384, 640)\n",
      "\n",
      "0: 384x640 1 person, 53.8ms\n",
      "Speed: 1.5ms preprocess, 53.8ms inference, 0.6ms postprocess per image at shape (1, 3, 384, 640)\n",
      "\n",
      "0: 384x640 1 person, 54.5ms\n",
      "Speed: 1.6ms preprocess, 54.5ms inference, 0.6ms postprocess per image at shape (1, 3, 384, 640)\n"
     ]
    },
    {
     "name": "stdout",
     "output_type": "stream",
     "text": [
      "bbox: [     229.95      124.07      1082.8       713.4]\n",
      "region: [[100 100]\n",
      " [200 200]]\n",
      "bbox: [     226.85      115.03      1071.5      713.24]\n",
      "region: [[100 100]\n",
      " [200 200]]\n",
      "bbox: [     219.57      109.08      1064.3      713.28]\n",
      "region: [[100 100]\n",
      " [200 200]]\n"
     ]
    },
    {
     "name": "stderr",
     "output_type": "stream",
     "text": [
      "\n",
      "0: 384x640 1 person, 53.2ms\n",
      "Speed: 1.7ms preprocess, 53.2ms inference, 0.6ms postprocess per image at shape (1, 3, 384, 640)\n",
      "\n",
      "0: 384x640 1 person, 78.0ms\n",
      "Speed: 1.8ms preprocess, 78.0ms inference, 0.6ms postprocess per image at shape (1, 3, 384, 640)\n",
      "\n"
     ]
    },
    {
     "name": "stdout",
     "output_type": "stream",
     "text": [
      "bbox: [     221.43      107.97        1062      713.36]\n",
      "region: [[100 100]\n",
      " [200 200]]\n",
      "bbox: [     224.64      111.42      1061.6      714.81]\n",
      "region: [[100 100]\n",
      " [200 200]]\n"
     ]
    },
    {
     "name": "stderr",
     "output_type": "stream",
     "text": [
      "0: 384x640 1 person, 54.4ms\n",
      "Speed: 1.8ms preprocess, 54.4ms inference, 0.6ms postprocess per image at shape (1, 3, 384, 640)\n",
      "\n",
      "0: 384x640 1 person, 57.8ms\n",
      "Speed: 1.8ms preprocess, 57.8ms inference, 0.6ms postprocess per image at shape (1, 3, 384, 640)\n",
      "\n",
      "0: 384x640 1 person, 56.1ms\n",
      "Speed: 1.8ms preprocess, 56.1ms inference, 0.6ms postprocess per image at shape (1, 3, 384, 640)\n"
     ]
    },
    {
     "name": "stdout",
     "output_type": "stream",
     "text": [
      "bbox: [     226.15      114.63      1066.2      714.57]\n",
      "region: [[100 100]\n",
      " [200 200]]\n",
      "bbox: [     226.92      113.11      1066.1      714.27]\n",
      "region: [[100 100]\n",
      " [200 200]]\n",
      "bbox: [     225.98       111.5        1066      714.04]\n",
      "region: [[100 100]\n",
      " [200 200]]\n"
     ]
    },
    {
     "name": "stderr",
     "output_type": "stream",
     "text": [
      "\n",
      "0: 384x640 1 person, 56.4ms\n",
      "Speed: 1.5ms preprocess, 56.4ms inference, 0.6ms postprocess per image at shape (1, 3, 384, 640)\n",
      "\n",
      "0: 384x640 1 person, 64.5ms\n",
      "Speed: 1.7ms preprocess, 64.5ms inference, 0.6ms postprocess per image at shape (1, 3, 384, 640)\n",
      "\n"
     ]
    },
    {
     "name": "stdout",
     "output_type": "stream",
     "text": [
      "bbox: [     220.98      101.93      1066.4      713.66]\n",
      "region: [[100 100]\n",
      " [200 200]]\n",
      "bbox: [     216.46      85.998      1071.3      712.63]\n",
      "region: [[100 100]\n",
      " [200 200]]\n"
     ]
    },
    {
     "name": "stderr",
     "output_type": "stream",
     "text": [
      "0: 384x640 1 person, 70.1ms\n",
      "Speed: 1.5ms preprocess, 70.1ms inference, 0.7ms postprocess per image at shape (1, 3, 384, 640)\n",
      "\n",
      "0: 384x640 1 person, 67.2ms\n",
      "Speed: 1.7ms preprocess, 67.2ms inference, 0.6ms postprocess per image at shape (1, 3, 384, 640)\n",
      "\n",
      "0: 384x640 1 person, 56.2ms\n",
      "Speed: 1.8ms preprocess, 56.2ms inference, 0.6ms postprocess per image at shape (1, 3, 384, 640)\n"
     ]
    },
    {
     "name": "stdout",
     "output_type": "stream",
     "text": [
      "bbox: [     194.72      65.536      1078.6      712.77]\n",
      "region: [[100 100]\n",
      " [200 200]]\n",
      "bbox: [      179.7       39.16      1086.7      713.14]\n",
      "region: [[100 100]\n",
      " [200 200]]\n",
      "bbox: [     163.39      25.479      1080.9      713.32]\n",
      "region: [[100 100]\n",
      " [200 200]]\n"
     ]
    },
    {
     "name": "stderr",
     "output_type": "stream",
     "text": [
      "\n",
      "0: 384x640 1 person, 58.2ms\n",
      "Speed: 1.9ms preprocess, 58.2ms inference, 0.7ms postprocess per image at shape (1, 3, 384, 640)\n",
      "\n",
      "0: 384x640 1 person, 57.8ms\n",
      "Speed: 1.8ms preprocess, 57.8ms inference, 0.6ms postprocess per image at shape (1, 3, 384, 640)\n",
      "\n",
      "0: 384x640 1 person, 56.3ms\n",
      "Speed: 1.6ms preprocess, 56.3ms inference, 0.6ms postprocess per image at shape (1, 3, 384, 640)\n"
     ]
    },
    {
     "name": "stdout",
     "output_type": "stream",
     "text": [
      "bbox: [     151.03      4.6414      1075.1      712.71]\n",
      "region: [[100 100]\n",
      " [200 200]]\n",
      "bbox: [     129.08      6.8694      1090.3      711.74]\n",
      "region: [[100 100]\n",
      " [200 200]]\n",
      "bbox: [     118.66      3.7993      1094.5      711.17]\n",
      "region: [[100 100]\n",
      " [200 200]]\n"
     ]
    },
    {
     "name": "stderr",
     "output_type": "stream",
     "text": [
      "\n",
      "0: 384x640 1 person, 82.7ms\n",
      "Speed: 2.2ms preprocess, 82.7ms inference, 0.6ms postprocess per image at shape (1, 3, 384, 640)\n",
      "\n",
      "0: 384x640 1 person, 58.6ms\n",
      "Speed: 1.7ms preprocess, 58.6ms inference, 0.6ms postprocess per image at shape (1, 3, 384, 640)\n",
      "\n"
     ]
    },
    {
     "name": "stdout",
     "output_type": "stream",
     "text": [
      "bbox: [     119.04      2.9235      1121.8      711.67]\n",
      "region: [[100 100]\n",
      " [200 200]]\n",
      "bbox: [     120.53        4.78        1141      712.29]\n",
      "region: [[100 100]\n",
      " [200 200]]\n"
     ]
    },
    {
     "name": "stderr",
     "output_type": "stream",
     "text": [
      "0: 384x640 1 person, 57.2ms\n",
      "Speed: 1.6ms preprocess, 57.2ms inference, 0.6ms postprocess per image at shape (1, 3, 384, 640)\n",
      "\n",
      "0: 384x640 1 person, 56.2ms\n",
      "Speed: 1.8ms preprocess, 56.2ms inference, 0.6ms postprocess per image at shape (1, 3, 384, 640)\n",
      "\n",
      "0: 384x640 1 person, 56.9ms\n",
      "Speed: 1.7ms preprocess, 56.9ms inference, 0.6ms postprocess per image at shape (1, 3, 384, 640)\n"
     ]
    },
    {
     "name": "stdout",
     "output_type": "stream",
     "text": [
      "bbox: [     132.95      4.7396      1172.4      712.06]\n",
      "region: [[100 100]\n",
      " [200 200]]\n",
      "bbox: [     159.99      4.2106      1188.2      713.05]\n",
      "region: [[100 100]\n",
      " [200 200]]\n",
      "bbox: [     193.83      5.3248      1230.2      712.64]\n",
      "region: [[100 100]\n",
      " [200 200]]\n"
     ]
    },
    {
     "name": "stderr",
     "output_type": "stream",
     "text": [
      "\n",
      "0: 384x640 1 person, 57.3ms\n",
      "Speed: 1.9ms preprocess, 57.3ms inference, 0.6ms postprocess per image at shape (1, 3, 384, 640)\n",
      "\n",
      "0: 384x640 1 person, 55.3ms\n",
      "Speed: 1.9ms preprocess, 55.3ms inference, 0.7ms postprocess per image at shape (1, 3, 384, 640)\n",
      "\n",
      "0: 384x640 1 person, 55.7ms\n",
      "Speed: 2.0ms preprocess, 55.7ms inference, 0.7ms postprocess per image at shape (1, 3, 384, 640)\n"
     ]
    },
    {
     "name": "stdout",
     "output_type": "stream",
     "text": [
      "bbox: [     181.78      2.5297        1242      713.07]\n",
      "region: [[100 100]\n",
      " [200 200]]\n",
      "bbox: [     192.17      3.4419      1241.2      712.74]\n",
      "region: [[100 100]\n",
      " [200 200]]\n",
      "bbox: [     187.11           0      1220.3      712.86]\n",
      "region: [[100 100]\n",
      " [200 200]]\n"
     ]
    },
    {
     "name": "stderr",
     "output_type": "stream",
     "text": [
      "\n",
      "0: 384x640 1 person, 56.1ms\n",
      "Speed: 1.6ms preprocess, 56.1ms inference, 0.6ms postprocess per image at shape (1, 3, 384, 640)\n",
      "\n",
      "0: 384x640 1 person, 55.1ms\n",
      "Speed: 1.9ms preprocess, 55.1ms inference, 0.6ms postprocess per image at shape (1, 3, 384, 640)\n",
      "\n",
      "0: 384x640 1 person, 57.3ms\n",
      "Speed: 1.8ms preprocess, 57.3ms inference, 0.7ms postprocess per image at shape (1, 3, 384, 640)\n"
     ]
    },
    {
     "name": "stdout",
     "output_type": "stream",
     "text": [
      "bbox: [     169.25      3.4757        1224      712.71]\n",
      "region: [[100 100]\n",
      " [200 200]]\n",
      "bbox: [     167.08      3.4265      1221.3      713.33]\n",
      "region: [[100 100]\n",
      " [200 200]]\n",
      "bbox: [     167.75      5.1759      1208.9      713.76]\n",
      "region: [[100 100]\n",
      " [200 200]]\n"
     ]
    },
    {
     "name": "stderr",
     "output_type": "stream",
     "text": [
      "\n",
      "0: 384x640 1 person, 55.3ms\n",
      "Speed: 2.0ms preprocess, 55.3ms inference, 0.6ms postprocess per image at shape (1, 3, 384, 640)\n",
      "\n",
      "0: 384x640 1 person, 54.6ms\n",
      "Speed: 1.5ms preprocess, 54.6ms inference, 0.7ms postprocess per image at shape (1, 3, 384, 640)\n",
      "\n",
      "0: 384x640 1 person, 54.8ms\n",
      "Speed: 1.7ms preprocess, 54.8ms inference, 0.6ms postprocess per image at shape (1, 3, 384, 640)\n"
     ]
    },
    {
     "name": "stdout",
     "output_type": "stream",
     "text": [
      "bbox: [     200.45      4.8152      1214.2      713.11]\n",
      "region: [[100 100]\n",
      " [200 200]]\n",
      "bbox: [     165.88      5.0223      1201.6       714.4]\n",
      "region: [[100 100]\n",
      " [200 200]]\n",
      "bbox: [     202.02      4.6168      1208.5      713.55]\n",
      "region: [[100 100]\n",
      " [200 200]]\n"
     ]
    },
    {
     "name": "stderr",
     "output_type": "stream",
     "text": [
      "\n",
      "0: 384x640 1 person, 54.9ms\n",
      "Speed: 1.5ms preprocess, 54.9ms inference, 0.6ms postprocess per image at shape (1, 3, 384, 640)\n",
      "\n",
      "0: 384x640 1 person, 90.5ms\n",
      "Speed: 1.6ms preprocess, 90.5ms inference, 0.6ms postprocess per image at shape (1, 3, 384, 640)\n",
      "\n"
     ]
    },
    {
     "name": "stdout",
     "output_type": "stream",
     "text": [
      "bbox: [     200.23      5.4996      1201.1      713.45]\n",
      "region: [[100 100]\n",
      " [200 200]]\n",
      "bbox: [     196.68      4.7269      1201.4      713.17]\n",
      "region: [[100 100]\n",
      " [200 200]]\n"
     ]
    },
    {
     "name": "stderr",
     "output_type": "stream",
     "text": [
      "0: 384x640 1 person, 56.2ms\n",
      "Speed: 1.9ms preprocess, 56.2ms inference, 0.6ms postprocess per image at shape (1, 3, 384, 640)\n",
      "\n",
      "0: 384x640 1 person, 56.6ms\n",
      "Speed: 1.5ms preprocess, 56.6ms inference, 0.6ms postprocess per image at shape (1, 3, 384, 640)\n",
      "\n",
      "0: 384x640 1 person, 55.5ms\n",
      "Speed: 2.3ms preprocess, 55.5ms inference, 0.6ms postprocess per image at shape (1, 3, 384, 640)\n"
     ]
    },
    {
     "name": "stdout",
     "output_type": "stream",
     "text": [
      "bbox: [     175.74      2.4607      1181.5       713.2]\n",
      "region: [[100 100]\n",
      " [200 200]]\n",
      "bbox: [     176.46     0.28479      1187.3      713.31]\n",
      "region: [[100 100]\n",
      " [200 200]]\n",
      "bbox: [     197.78      5.5717        1198       713.4]\n",
      "region: [[100 100]\n",
      " [200 200]]\n"
     ]
    },
    {
     "name": "stderr",
     "output_type": "stream",
     "text": [
      "\n",
      "0: 384x640 1 person, 54.8ms\n",
      "Speed: 1.4ms preprocess, 54.8ms inference, 0.6ms postprocess per image at shape (1, 3, 384, 640)\n",
      "\n",
      "0: 384x640 1 person, 55.9ms\n",
      "Speed: 1.6ms preprocess, 55.9ms inference, 0.6ms postprocess per image at shape (1, 3, 384, 640)\n",
      "\n"
     ]
    },
    {
     "name": "stdout",
     "output_type": "stream",
     "text": [
      "bbox: [     198.68      4.8948      1198.1      713.06]\n",
      "region: [[100 100]\n",
      " [200 200]]\n",
      "bbox: [     195.75       5.026      1202.5      713.24]\n",
      "region: [[100 100]\n",
      " [200 200]]\n"
     ]
    },
    {
     "name": "stderr",
     "output_type": "stream",
     "text": [
      "0: 384x640 1 person, 61.0ms\n",
      "Speed: 2.0ms preprocess, 61.0ms inference, 0.7ms postprocess per image at shape (1, 3, 384, 640)\n",
      "\n",
      "0: 384x640 1 person, 56.5ms\n",
      "Speed: 1.6ms preprocess, 56.5ms inference, 1.1ms postprocess per image at shape (1, 3, 384, 640)\n",
      "\n",
      "0: 384x640 1 person, 55.0ms\n",
      "Speed: 1.6ms preprocess, 55.0ms inference, 0.6ms postprocess per image at shape (1, 3, 384, 640)\n"
     ]
    },
    {
     "name": "stdout",
     "output_type": "stream",
     "text": [
      "bbox: [     196.67      5.2572      1195.5      713.01]\n",
      "region: [[100 100]\n",
      " [200 200]]\n",
      "bbox: [     195.39      5.6462      1197.6      712.87]\n",
      "region: [[100 100]\n",
      " [200 200]]\n",
      "bbox: [     195.67      5.6401      1192.1      712.82]\n",
      "region: [[100 100]\n",
      " [200 200]]\n"
     ]
    },
    {
     "name": "stderr",
     "output_type": "stream",
     "text": [
      "\n",
      "0: 384x640 1 person, 63.5ms\n",
      "Speed: 2.2ms preprocess, 63.5ms inference, 0.6ms postprocess per image at shape (1, 3, 384, 640)\n",
      "\n",
      "0: 384x640 1 person, 54.7ms\n",
      "Speed: 1.8ms preprocess, 54.7ms inference, 0.6ms postprocess per image at shape (1, 3, 384, 640)\n",
      "\n"
     ]
    },
    {
     "name": "stdout",
     "output_type": "stream",
     "text": [
      "bbox: [     195.69      4.8079      1188.3      712.92]\n",
      "region: [[100 100]\n",
      " [200 200]]\n",
      "bbox: [     197.06      5.0319      1185.4      713.06]\n",
      "region: [[100 100]\n",
      " [200 200]]\n"
     ]
    },
    {
     "name": "stderr",
     "output_type": "stream",
     "text": [
      "0: 384x640 1 person, 55.2ms\n",
      "Speed: 1.7ms preprocess, 55.2ms inference, 0.6ms postprocess per image at shape (1, 3, 384, 640)\n",
      "\n",
      "0: 384x640 1 person, 52.1ms\n",
      "Speed: 1.8ms preprocess, 52.1ms inference, 0.8ms postprocess per image at shape (1, 3, 384, 640)\n",
      "\n",
      "0: 384x640 1 person, 53.3ms\n",
      "Speed: 1.5ms preprocess, 53.3ms inference, 0.6ms postprocess per image at shape (1, 3, 384, 640)\n"
     ]
    },
    {
     "name": "stdout",
     "output_type": "stream",
     "text": [
      "bbox: [     191.17     0.60156      1186.9      712.67]\n",
      "region: [[100 100]\n",
      " [200 200]]\n",
      "bbox: [     190.92     0.50378      1185.7      712.85]\n",
      "region: [[100 100]\n",
      " [200 200]]\n",
      "bbox: [     189.29           0      1191.2      712.74]\n",
      "region: [[100 100]\n",
      " [200 200]]\n"
     ]
    },
    {
     "name": "stderr",
     "output_type": "stream",
     "text": [
      "\n",
      "0: 384x640 1 person, 54.6ms\n",
      "Speed: 1.8ms preprocess, 54.6ms inference, 0.6ms postprocess per image at shape (1, 3, 384, 640)\n",
      "\n",
      "0: 384x640 1 person, 53.7ms\n",
      "Speed: 1.6ms preprocess, 53.7ms inference, 0.6ms postprocess per image at shape (1, 3, 384, 640)\n",
      "\n",
      "0: 384x640 1 person, 53.5ms\n",
      "Speed: 1.7ms preprocess, 53.5ms inference, 0.6ms postprocess per image at shape (1, 3, 384, 640)\n"
     ]
    },
    {
     "name": "stdout",
     "output_type": "stream",
     "text": [
      "bbox: [     188.72           0      1190.8      712.49]\n",
      "region: [[100 100]\n",
      " [200 200]]\n",
      "bbox: [     173.92      4.1072      1191.6      712.92]\n",
      "region: [[100 100]\n",
      " [200 200]]\n",
      "bbox: [     183.71      3.3978      1180.7      713.13]\n",
      "region: [[100 100]\n",
      " [200 200]]\n"
     ]
    },
    {
     "name": "stderr",
     "output_type": "stream",
     "text": [
      "\n",
      "0: 384x640 1 person, 57.4ms\n",
      "Speed: 1.7ms preprocess, 57.4ms inference, 0.6ms postprocess per image at shape (1, 3, 384, 640)\n",
      "\n",
      "0: 384x640 1 person, 55.1ms\n",
      "Speed: 1.5ms preprocess, 55.1ms inference, 0.6ms postprocess per image at shape (1, 3, 384, 640)\n",
      "\n",
      "0: 384x640 1 person, 57.4ms\n",
      "Speed: 1.9ms preprocess, 57.4ms inference, 0.6ms postprocess per image at shape (1, 3, 384, 640)\n"
     ]
    },
    {
     "name": "stdout",
     "output_type": "stream",
     "text": [
      "bbox: [     192.42      3.2383      1155.2      712.42]\n",
      "region: [[100 100]\n",
      " [200 200]]\n",
      "bbox: [     214.27      45.028      1137.2      713.49]\n",
      "region: [[100 100]\n",
      " [200 200]]\n",
      "bbox: [      240.3      121.46      1091.9      713.98]\n",
      "region: [[100 100]\n",
      " [200 200]]\n"
     ]
    },
    {
     "name": "stderr",
     "output_type": "stream",
     "text": [
      "\n",
      "0: 384x640 1 person, 54.8ms\n",
      "Speed: 1.9ms preprocess, 54.8ms inference, 0.6ms postprocess per image at shape (1, 3, 384, 640)\n",
      "\n",
      "0: 384x640 1 person, 54.4ms\n",
      "Speed: 1.5ms preprocess, 54.4ms inference, 0.7ms postprocess per image at shape (1, 3, 384, 640)\n",
      "\n",
      "0: 384x640 1 person, 53.5ms\n",
      "Speed: 1.5ms preprocess, 53.5ms inference, 0.6ms postprocess per image at shape (1, 3, 384, 640)\n"
     ]
    },
    {
     "name": "stdout",
     "output_type": "stream",
     "text": [
      "bbox: [     298.31      196.16      1043.3      715.42]\n",
      "region: [[100 100]\n",
      " [200 200]]\n",
      "bbox: [     302.17      219.64        1039      716.44]\n",
      "region: [[100 100]\n",
      " [200 200]]\n",
      "bbox: [     302.58      213.58      1041.1      715.71]\n",
      "region: [[100 100]\n",
      " [200 200]]\n"
     ]
    },
    {
     "name": "stderr",
     "output_type": "stream",
     "text": [
      "\n",
      "0: 384x640 1 person, 55.9ms\n",
      "Speed: 1.7ms preprocess, 55.9ms inference, 0.6ms postprocess per image at shape (1, 3, 384, 640)\n",
      "\n",
      "0: 384x640 1 person, 54.7ms\n",
      "Speed: 1.8ms preprocess, 54.7ms inference, 0.6ms postprocess per image at shape (1, 3, 384, 640)\n",
      "\n",
      "0: 384x640 1 person, 55.4ms\n",
      "Speed: 1.6ms preprocess, 55.4ms inference, 0.6ms postprocess per image at shape (1, 3, 384, 640)\n"
     ]
    },
    {
     "name": "stdout",
     "output_type": "stream",
     "text": [
      "bbox: [     299.33      210.82      1044.3      715.61]\n",
      "region: [[100 100]\n",
      " [200 200]]\n",
      "bbox: [     297.54      204.75      1038.3      716.01]\n",
      "region: [[100 100]\n",
      " [200 200]]\n"
     ]
    },
    {
     "name": "stderr",
     "output_type": "stream",
     "text": [
      "\n",
      "0: 384x640 1 person, 54.1ms\n",
      "Speed: 1.5ms preprocess, 54.1ms inference, 0.6ms postprocess per image at shape (1, 3, 384, 640)\n",
      "\n",
      "0: 384x640 1 person, 54.4ms\n",
      "Speed: 1.9ms preprocess, 54.4ms inference, 0.6ms postprocess per image at shape (1, 3, 384, 640)\n"
     ]
    },
    {
     "name": "stdout",
     "output_type": "stream",
     "text": [
      "bbox: [     293.99      196.12      1033.3      714.87]\n",
      "region: [[100 100]\n",
      " [200 200]]\n",
      "bbox: [     295.15      188.99      1029.6      715.41]\n",
      "region: [[100 100]\n",
      " [200 200]]\n"
     ]
    },
    {
     "name": "stderr",
     "output_type": "stream",
     "text": [
      "\n",
      "0: 384x640 1 person, 54.6ms\n",
      "Speed: 1.8ms preprocess, 54.6ms inference, 0.6ms postprocess per image at shape (1, 3, 384, 640)\n",
      "\n",
      "0: 384x640 1 person, 52.4ms\n",
      "Speed: 1.9ms preprocess, 52.4ms inference, 0.6ms postprocess per image at shape (1, 3, 384, 640)\n"
     ]
    },
    {
     "name": "stdout",
     "output_type": "stream",
     "text": [
      "bbox: [     282.87      171.39        1045       715.5]\n",
      "region: [[100 100]\n",
      " [200 200]]\n",
      "bbox: [     273.38      145.52      1068.1      716.44]\n",
      "region: [[100 100]\n",
      " [200 200]]\n",
      "bbox: [     253.15      123.38      1094.1      714.18]\n",
      "region: [[100 100]\n",
      " [200 200]]\n"
     ]
    },
    {
     "name": "stderr",
     "output_type": "stream",
     "text": [
      "\n",
      "0: 384x640 1 person, 52.5ms\n",
      "Speed: 1.6ms preprocess, 52.5ms inference, 0.6ms postprocess per image at shape (1, 3, 384, 640)\n",
      "\n",
      "0: 384x640 1 person, 54.0ms\n",
      "Speed: 1.9ms preprocess, 54.0ms inference, 0.6ms postprocess per image at shape (1, 3, 384, 640)\n",
      "\n"
     ]
    },
    {
     "name": "stdout",
     "output_type": "stream",
     "text": [
      "bbox: [     225.49      48.046      1123.9      712.92]\n",
      "region: [[100 100]\n",
      " [200 200]]\n",
      "bbox: [     211.41      3.2985      1118.2      712.26]\n",
      "region: [[100 100]\n",
      " [200 200]]\n"
     ]
    },
    {
     "name": "stderr",
     "output_type": "stream",
     "text": [
      "0: 384x640 1 person, 53.3ms\n",
      "Speed: 1.5ms preprocess, 53.3ms inference, 0.6ms postprocess per image at shape (1, 3, 384, 640)\n",
      "\n",
      "0: 384x640 1 person, 54.7ms\n",
      "Speed: 1.6ms preprocess, 54.7ms inference, 0.6ms postprocess per image at shape (1, 3, 384, 640)\n",
      "\n",
      "0: 384x640 1 person, 54.7ms\n",
      "Speed: 1.7ms preprocess, 54.7ms inference, 0.6ms postprocess per image at shape (1, 3, 384, 640)\n"
     ]
    },
    {
     "name": "stdout",
     "output_type": "stream",
     "text": [
      "bbox: [     212.87       15.52      1096.8      712.86]\n",
      "region: [[100 100]\n",
      " [200 200]]\n",
      "bbox: [     221.59      26.152      1098.4      712.22]\n",
      "region: [[100 100]\n",
      " [200 200]]\n",
      "bbox: [     221.43      29.446      1102.1      713.11]\n",
      "region: [[100 100]\n",
      " [200 200]]\n"
     ]
    },
    {
     "name": "stderr",
     "output_type": "stream",
     "text": [
      "\n",
      "0: 384x640 1 person, 54.7ms\n",
      "Speed: 1.8ms preprocess, 54.7ms inference, 0.8ms postprocess per image at shape (1, 3, 384, 640)\n",
      "\n",
      "0: 384x640 1 person, 53.3ms\n",
      "Speed: 1.6ms preprocess, 53.3ms inference, 0.7ms postprocess per image at shape (1, 3, 384, 640)\n",
      "\n",
      "0: 384x640 1 person, 54.8ms\n",
      "Speed: 1.6ms preprocess, 54.8ms inference, 0.6ms postprocess per image at shape (1, 3, 384, 640)\n"
     ]
    },
    {
     "name": "stdout",
     "output_type": "stream",
     "text": [
      "bbox: [     219.99      30.275      1108.2      713.07]\n",
      "region: [[100 100]\n",
      " [200 200]]\n",
      "bbox: [      218.9      29.922      1116.5      712.94]\n",
      "region: [[100 100]\n",
      " [200 200]]\n",
      "bbox: [     219.43      29.344      1116.2       713.1]\n",
      "region: [[100 100]\n",
      " [200 200]]\n"
     ]
    },
    {
     "name": "stderr",
     "output_type": "stream",
     "text": [
      "\n",
      "0: 384x640 1 person, 52.9ms\n",
      "Speed: 1.5ms preprocess, 52.9ms inference, 0.6ms postprocess per image at shape (1, 3, 384, 640)\n",
      "\n",
      "0: 384x640 1 person, 53.3ms\n",
      "Speed: 1.6ms preprocess, 53.3ms inference, 0.6ms postprocess per image at shape (1, 3, 384, 640)\n",
      "\n"
     ]
    },
    {
     "name": "stdout",
     "output_type": "stream",
     "text": [
      "bbox: [     213.51      32.187      1116.1      713.67]\n",
      "region: [[100 100]\n",
      " [200 200]]\n",
      "bbox: [     214.75      31.537      1119.9      714.02]\n",
      "region: [[100 100]\n",
      " [200 200]]\n"
     ]
    },
    {
     "name": "stderr",
     "output_type": "stream",
     "text": [
      "0: 384x640 1 person, 54.9ms\n",
      "Speed: 1.8ms preprocess, 54.9ms inference, 0.6ms postprocess per image at shape (1, 3, 384, 640)\n",
      "\n",
      "0: 384x640 1 person, 54.1ms\n",
      "Speed: 1.6ms preprocess, 54.1ms inference, 0.7ms postprocess per image at shape (1, 3, 384, 640)\n",
      "\n",
      "0: 384x640 1 person, 55.3ms\n",
      "Speed: 1.6ms preprocess, 55.3ms inference, 0.6ms postprocess per image at shape (1, 3, 384, 640)\n"
     ]
    },
    {
     "name": "stdout",
     "output_type": "stream",
     "text": [
      "bbox: [     216.18       32.53      1124.6       714.1]\n",
      "region: [[100 100]\n",
      " [200 200]]\n",
      "bbox: [     216.78      31.829      1122.8      713.65]\n",
      "region: [[100 100]\n",
      " [200 200]]\n",
      "bbox: [     218.24      31.765        1123       713.9]\n",
      "region: [[100 100]\n",
      " [200 200]]\n"
     ]
    },
    {
     "name": "stderr",
     "output_type": "stream",
     "text": [
      "\n",
      "0: 384x640 1 person, 54.5ms\n",
      "Speed: 1.8ms preprocess, 54.5ms inference, 0.7ms postprocess per image at shape (1, 3, 384, 640)\n",
      "\n",
      "0: 384x640 1 person, 55.1ms\n",
      "Speed: 1.6ms preprocess, 55.1ms inference, 0.6ms postprocess per image at shape (1, 3, 384, 640)\n",
      "\n",
      "0: 384x640 1 person, 53.9ms\n",
      "Speed: 1.8ms preprocess, 53.9ms inference, 0.6ms postprocess per image at shape (1, 3, 384, 640)\n"
     ]
    },
    {
     "name": "stdout",
     "output_type": "stream",
     "text": [
      "bbox: [     218.56      31.458      1121.8      713.84]\n",
      "region: [[100 100]\n",
      " [200 200]]\n",
      "bbox: [     217.49      32.605      1116.7      713.71]\n",
      "region: [[100 100]\n",
      " [200 200]]\n"
     ]
    },
    {
     "name": "stderr",
     "output_type": "stream",
     "text": [
      "\n",
      "0: 384x640 1 person, 54.1ms\n",
      "Speed: 1.6ms preprocess, 54.1ms inference, 0.7ms postprocess per image at shape (1, 3, 384, 640)\n",
      "\n",
      "0: 384x640 1 person, 52.6ms\n",
      "Speed: 1.6ms preprocess, 52.6ms inference, 0.6ms postprocess per image at shape (1, 3, 384, 640)\n"
     ]
    },
    {
     "name": "stdout",
     "output_type": "stream",
     "text": [
      "bbox: [      217.6      32.715      1110.6      713.76]\n",
      "region: [[100 100]\n",
      " [200 200]]\n",
      "bbox: [      217.8      33.733      1113.1      713.77]\n",
      "region: [[100 100]\n",
      " [200 200]]\n",
      "bbox: [     217.47      34.145      1116.8      714.16]\n",
      "region: [[100 100]\n",
      " [200 200]]\n"
     ]
    },
    {
     "name": "stderr",
     "output_type": "stream",
     "text": [
      "\n",
      "0: 384x640 1 person, 52.5ms\n",
      "Speed: 1.8ms preprocess, 52.5ms inference, 0.6ms postprocess per image at shape (1, 3, 384, 640)\n",
      "\n",
      "0: 384x640 1 person, 53.4ms\n",
      "Speed: 1.8ms preprocess, 53.4ms inference, 0.6ms postprocess per image at shape (1, 3, 384, 640)\n",
      "\n",
      "0: 384x640 1 person, 52.3ms\n",
      "Speed: 1.8ms preprocess, 52.3ms inference, 0.6ms postprocess per image at shape (1, 3, 384, 640)\n"
     ]
    },
    {
     "name": "stdout",
     "output_type": "stream",
     "text": [
      "bbox: [     218.43      34.411      1116.5      713.99]\n",
      "region: [[100 100]\n",
      " [200 200]]\n",
      "bbox: [     218.16      36.451      1114.6      713.92]\n",
      "region: [[100 100]\n",
      " [200 200]]\n"
     ]
    },
    {
     "name": "stderr",
     "output_type": "stream",
     "text": [
      "\n",
      "0: 384x640 1 person, 55.9ms\n",
      "Speed: 1.8ms preprocess, 55.9ms inference, 0.6ms postprocess per image at shape (1, 3, 384, 640)\n",
      "\n"
     ]
    },
    {
     "name": "stdout",
     "output_type": "stream",
     "text": [
      "bbox: [     224.99      33.086      1118.6      713.94]\n",
      "region: [[100 100]\n",
      " [200 200]]\n",
      "bbox: [     223.96      33.252      1116.4      713.71]\n",
      "region: [[100 100]\n",
      " [200 200]]\n"
     ]
    },
    {
     "name": "stderr",
     "output_type": "stream",
     "text": [
      "0: 384x640 1 person, 54.3ms\n",
      "Speed: 1.5ms preprocess, 54.3ms inference, 0.9ms postprocess per image at shape (1, 3, 384, 640)\n",
      "\n",
      "0: 384x640 1 person, 55.3ms\n",
      "Speed: 1.8ms preprocess, 55.3ms inference, 0.6ms postprocess per image at shape (1, 3, 384, 640)\n",
      "\n",
      "0: 384x640 1 person, 54.7ms\n",
      "Speed: 1.6ms preprocess, 54.7ms inference, 0.6ms postprocess per image at shape (1, 3, 384, 640)\n"
     ]
    },
    {
     "name": "stdout",
     "output_type": "stream",
     "text": [
      "bbox: [     223.43      32.222      1115.8      713.44]\n",
      "region: [[100 100]\n",
      " [200 200]]\n",
      "bbox: [     216.36      35.129      1116.8      714.41]\n",
      "region: [[100 100]\n",
      " [200 200]]\n"
     ]
    },
    {
     "name": "stderr",
     "output_type": "stream",
     "text": [
      "\n",
      "0: 384x640 1 person, 56.0ms\n",
      "Speed: 1.6ms preprocess, 56.0ms inference, 0.6ms postprocess per image at shape (1, 3, 384, 640)\n",
      "\n",
      "0: 384x640 1 person, 54.7ms\n",
      "Speed: 1.7ms preprocess, 54.7ms inference, 0.6ms postprocess per image at shape (1, 3, 384, 640)\n"
     ]
    },
    {
     "name": "stdout",
     "output_type": "stream",
     "text": [
      "bbox: [     223.09      34.853      1114.3      713.49]\n",
      "region: [[100 100]\n",
      " [200 200]]\n",
      "bbox: [     216.81      38.491      1113.9      713.69]\n",
      "region: [[100 100]\n",
      " [200 200]]\n",
      "bbox: [     223.11      34.707      1103.3      713.89]\n",
      "region: [[100 100]\n",
      " [200 200]]\n"
     ]
    },
    {
     "name": "stderr",
     "output_type": "stream",
     "text": [
      "\n",
      "0: 384x640 1 person, 61.6ms\n",
      "Speed: 1.9ms preprocess, 61.6ms inference, 0.6ms postprocess per image at shape (1, 3, 384, 640)\n",
      "\n",
      "0: 384x640 1 person, 55.3ms\n",
      "Speed: 1.5ms preprocess, 55.3ms inference, 0.7ms postprocess per image at shape (1, 3, 384, 640)\n",
      "\n",
      "0: 384x640 1 person, 53.7ms\n",
      "Speed: 1.7ms preprocess, 53.7ms inference, 0.6ms postprocess per image at shape (1, 3, 384, 640)\n"
     ]
    },
    {
     "name": "stdout",
     "output_type": "stream",
     "text": [
      "bbox: [     227.33      38.438      1110.7      713.71]\n",
      "region: [[100 100]\n",
      " [200 200]]\n",
      "bbox: [     242.38      37.674      1126.7      712.48]\n",
      "region: [[100 100]\n",
      " [200 200]]\n",
      "bbox: [     242.29      39.145      1126.3      712.41]\n",
      "region: [[100 100]\n",
      " [200 200]]\n"
     ]
    },
    {
     "name": "stderr",
     "output_type": "stream",
     "text": [
      "\n",
      "0: 384x640 1 person, 54.1ms\n",
      "Speed: 1.8ms preprocess, 54.1ms inference, 0.6ms postprocess per image at shape (1, 3, 384, 640)\n",
      "\n",
      "0: 384x640 1 person, 55.2ms\n",
      "Speed: 1.6ms preprocess, 55.2ms inference, 0.6ms postprocess per image at shape (1, 3, 384, 640)\n",
      "\n",
      "0: 384x640 1 person, 54.5ms\n",
      "Speed: 1.8ms preprocess, 54.5ms inference, 0.6ms postprocess per image at shape (1, 3, 384, 640)\n"
     ]
    },
    {
     "name": "stdout",
     "output_type": "stream",
     "text": [
      "bbox: [     248.15      40.865      1129.2       712.8]\n",
      "region: [[100 100]\n",
      " [200 200]]\n",
      "bbox: [     245.74      40.093      1132.3         713]\n",
      "region: [[100 100]\n",
      " [200 200]]\n",
      "bbox: [     245.48       39.98        1132      712.94]\n",
      "region: [[100 100]\n",
      " [200 200]]\n"
     ]
    },
    {
     "name": "stderr",
     "output_type": "stream",
     "text": [
      "\n",
      "0: 384x640 1 person, 54.6ms\n",
      "Speed: 1.7ms preprocess, 54.6ms inference, 0.7ms postprocess per image at shape (1, 3, 384, 640)\n",
      "\n",
      "0: 384x640 1 person, 54.6ms\n",
      "Speed: 1.6ms preprocess, 54.6ms inference, 0.6ms postprocess per image at shape (1, 3, 384, 640)\n",
      "\n",
      "0: 384x640 1 person, 54.0ms\n",
      "Speed: 1.8ms preprocess, 54.0ms inference, 0.6ms postprocess per image at shape (1, 3, 384, 640)\n"
     ]
    },
    {
     "name": "stdout",
     "output_type": "stream",
     "text": [
      "bbox: [     243.56      41.547      1130.1      712.55]\n",
      "region: [[100 100]\n",
      " [200 200]]\n",
      "bbox: [     246.87      42.064      1127.1      712.65]\n",
      "region: [[100 100]\n",
      " [200 200]]\n",
      "bbox: [     244.53      43.063      1125.7      712.18]\n",
      "region: [[100 100]\n",
      " [200 200]]\n"
     ]
    },
    {
     "name": "stderr",
     "output_type": "stream",
     "text": [
      "\n",
      "0: 384x640 1 person, 55.4ms\n",
      "Speed: 1.7ms preprocess, 55.4ms inference, 0.7ms postprocess per image at shape (1, 3, 384, 640)\n",
      "\n",
      "0: 384x640 1 person, 53.7ms\n",
      "Speed: 1.6ms preprocess, 53.7ms inference, 0.6ms postprocess per image at shape (1, 3, 384, 640)\n",
      "\n",
      "0: 384x640 1 person, 54.9ms\n",
      "Speed: 1.7ms preprocess, 54.9ms inference, 0.6ms postprocess per image at shape (1, 3, 384, 640)\n"
     ]
    },
    {
     "name": "stdout",
     "output_type": "stream",
     "text": [
      "bbox: [     230.61      47.024      1107.3      713.27]\n",
      "region: [[100 100]\n",
      " [200 200]]\n",
      "bbox: [     226.29      49.396      1109.4      712.84]\n",
      "region: [[100 100]\n",
      " [200 200]]\n",
      "bbox: [     219.32      53.274      1102.6      713.27]\n",
      "region: [[100 100]\n",
      " [200 200]]\n"
     ]
    },
    {
     "name": "stderr",
     "output_type": "stream",
     "text": [
      "\n",
      "0: 384x640 1 person, 54.8ms\n",
      "Speed: 1.7ms preprocess, 54.8ms inference, 0.6ms postprocess per image at shape (1, 3, 384, 640)\n",
      "\n",
      "0: 384x640 1 person, 54.8ms\n",
      "Speed: 1.8ms preprocess, 54.8ms inference, 0.6ms postprocess per image at shape (1, 3, 384, 640)\n",
      "\n",
      "0: 384x640 1 person, 53.7ms\n",
      "Speed: 1.6ms preprocess, 53.7ms inference, 0.5ms postprocess per image at shape (1, 3, 384, 640)\n"
     ]
    },
    {
     "name": "stdout",
     "output_type": "stream",
     "text": [
      "bbox: [     211.33       55.98      1089.5      713.09]\n",
      "region: [[100 100]\n",
      " [200 200]]\n",
      "bbox: [      199.7      56.897        1083      712.44]\n",
      "region: [[100 100]\n",
      " [200 200]]\n",
      "bbox: [     197.44       59.13      1078.7      712.87]\n",
      "region: [[100 100]\n",
      " [200 200]]\n"
     ]
    },
    {
     "name": "stderr",
     "output_type": "stream",
     "text": [
      "\n",
      "0: 384x640 1 person, 54.0ms\n",
      "Speed: 1.6ms preprocess, 54.0ms inference, 0.6ms postprocess per image at shape (1, 3, 384, 640)\n",
      "\n",
      "0: 384x640 1 person, 53.8ms\n",
      "Speed: 1.7ms preprocess, 53.8ms inference, 0.6ms postprocess per image at shape (1, 3, 384, 640)\n",
      "\n",
      "0: 384x640 1 person, 53.8ms\n",
      "Speed: 1.5ms preprocess, 53.8ms inference, 0.6ms postprocess per image at shape (1, 3, 384, 640)\n"
     ]
    },
    {
     "name": "stdout",
     "output_type": "stream",
     "text": [
      "bbox: [     189.85      63.182      1049.7      713.12]\n",
      "region: [[100 100]\n",
      " [200 200]]\n",
      "bbox: [     183.12      65.905        1043      713.28]\n",
      "region: [[100 100]\n",
      " [200 200]]\n",
      "bbox: [     175.11      67.429      1039.4      712.93]\n",
      "region: [[100 100]\n",
      " [200 200]]\n"
     ]
    },
    {
     "name": "stderr",
     "output_type": "stream",
     "text": [
      "\n",
      "0: 384x640 1 person, 54.0ms\n",
      "Speed: 1.8ms preprocess, 54.0ms inference, 0.7ms postprocess per image at shape (1, 3, 384, 640)\n",
      "\n",
      "0: 384x640 1 person, 54.5ms\n",
      "Speed: 1.6ms preprocess, 54.5ms inference, 0.6ms postprocess per image at shape (1, 3, 384, 640)\n",
      "\n",
      "0: 384x640 1 person, 54.8ms\n",
      "Speed: 1.6ms preprocess, 54.8ms inference, 0.6ms postprocess per image at shape (1, 3, 384, 640)\n"
     ]
    },
    {
     "name": "stdout",
     "output_type": "stream",
     "text": [
      "bbox: [     169.49      64.856      1034.7      713.46]\n",
      "region: [[100 100]\n",
      " [200 200]]\n",
      "bbox: [     168.98      63.333      1036.2      713.31]\n",
      "region: [[100 100]\n",
      " [200 200]]\n"
     ]
    },
    {
     "name": "stderr",
     "output_type": "stream",
     "text": [
      "\n",
      "0: 384x640 1 person, 53.5ms\n",
      "Speed: 1.7ms preprocess, 53.5ms inference, 0.6ms postprocess per image at shape (1, 3, 384, 640)\n",
      "\n",
      "0: 384x640 1 person, 53.5ms\n",
      "Speed: 1.8ms preprocess, 53.5ms inference, 0.6ms postprocess per image at shape (1, 3, 384, 640)\n"
     ]
    },
    {
     "name": "stdout",
     "output_type": "stream",
     "text": [
      "bbox: [     172.07      61.578      1033.8       713.8]\n",
      "region: [[100 100]\n",
      " [200 200]]\n",
      "bbox: [     173.75      61.941      1040.4      713.54]\n",
      "region: [[100 100]\n",
      " [200 200]]\n",
      "bbox: [     180.93      58.775      1044.7      713.22]\n",
      "region: [[100 100]\n",
      " [200 200]]\n"
     ]
    },
    {
     "name": "stderr",
     "output_type": "stream",
     "text": [
      "\n",
      "0: 384x640 1 person, 56.0ms\n",
      "Speed: 1.7ms preprocess, 56.0ms inference, 0.6ms postprocess per image at shape (1, 3, 384, 640)\n",
      "\n",
      "0: 384x640 1 person, 53.1ms\n",
      "Speed: 1.8ms preprocess, 53.1ms inference, 0.6ms postprocess per image at shape (1, 3, 384, 640)\n",
      "\n",
      "0: 384x640 1 person, 54.6ms\n",
      "Speed: 1.8ms preprocess, 54.6ms inference, 0.7ms postprocess per image at shape (1, 3, 384, 640)\n"
     ]
    },
    {
     "name": "stdout",
     "output_type": "stream",
     "text": [
      "bbox: [     195.52      55.143      1074.1      712.36]\n",
      "region: [[100 100]\n",
      " [200 200]]\n",
      "bbox: [     203.78      48.147      1088.1      712.71]\n",
      "region: [[100 100]\n",
      " [200 200]]\n",
      "bbox: [     212.15      42.653      1093.2       713.3]\n",
      "region: [[100 100]\n",
      " [200 200]]\n"
     ]
    },
    {
     "name": "stderr",
     "output_type": "stream",
     "text": [
      "\n",
      "0: 384x640 1 person, 54.2ms\n",
      "Speed: 2.0ms preprocess, 54.2ms inference, 0.6ms postprocess per image at shape (1, 3, 384, 640)\n",
      "\n",
      "0: 384x640 1 person, 54.1ms\n",
      "Speed: 2.0ms preprocess, 54.1ms inference, 0.6ms postprocess per image at shape (1, 3, 384, 640)\n",
      "\n"
     ]
    },
    {
     "name": "stdout",
     "output_type": "stream",
     "text": [
      "bbox: [     220.46      36.205        1115       713.2]\n",
      "region: [[100 100]\n",
      " [200 200]]\n",
      "bbox: [     226.94      29.975      1129.4      712.89]\n",
      "region: [[100 100]\n",
      " [200 200]]\n"
     ]
    },
    {
     "name": "stderr",
     "output_type": "stream",
     "text": [
      "0: 384x640 1 person, 60.7ms\n",
      "Speed: 1.7ms preprocess, 60.7ms inference, 0.6ms postprocess per image at shape (1, 3, 384, 640)\n",
      "\n",
      "0: 384x640 1 person, 55.9ms\n",
      "Speed: 1.4ms preprocess, 55.9ms inference, 0.6ms postprocess per image at shape (1, 3, 384, 640)\n",
      "\n",
      "0: 384x640 1 person, 55.4ms\n",
      "Speed: 1.6ms preprocess, 55.4ms inference, 0.6ms postprocess per image at shape (1, 3, 384, 640)\n"
     ]
    },
    {
     "name": "stdout",
     "output_type": "stream",
     "text": [
      "bbox: [     247.28      21.964      1161.3      713.28]\n",
      "region: [[100 100]\n",
      " [200 200]]\n",
      "bbox: [     255.52      17.723      1176.9       713.2]\n",
      "region: [[100 100]\n",
      " [200 200]]\n",
      "bbox: [     251.93      15.786      1155.3      713.52]\n",
      "region: [[100 100]\n",
      " [200 200]]\n"
     ]
    },
    {
     "name": "stderr",
     "output_type": "stream",
     "text": [
      "\n",
      "0: 384x640 1 person, 54.3ms\n",
      "Speed: 1.6ms preprocess, 54.3ms inference, 0.6ms postprocess per image at shape (1, 3, 384, 640)\n",
      "\n",
      "0: 384x640 1 person, 54.7ms\n",
      "Speed: 1.6ms preprocess, 54.7ms inference, 0.6ms postprocess per image at shape (1, 3, 384, 640)\n",
      "\n",
      "0: 384x640 1 person, 54.9ms\n",
      "Speed: 1.5ms preprocess, 54.9ms inference, 0.6ms postprocess per image at shape (1, 3, 384, 640)\n"
     ]
    },
    {
     "name": "stdout",
     "output_type": "stream",
     "text": [
      "bbox: [     258.12      11.318      1187.1      713.37]\n",
      "region: [[100 100]\n",
      " [200 200]]\n",
      "bbox: [     261.27      8.9839        1193       713.2]\n",
      "region: [[100 100]\n",
      " [200 200]]\n",
      "bbox: [     267.49      5.8475      1201.5      713.68]\n",
      "region: [[100 100]\n",
      " [200 200]]\n"
     ]
    },
    {
     "name": "stderr",
     "output_type": "stream",
     "text": [
      "\n",
      "0: 384x640 1 person, 57.8ms\n",
      "Speed: 1.8ms preprocess, 57.8ms inference, 0.6ms postprocess per image at shape (1, 3, 384, 640)\n",
      "\n",
      "0: 384x640 1 person, 54.4ms\n",
      "Speed: 1.8ms preprocess, 54.4ms inference, 0.6ms postprocess per image at shape (1, 3, 384, 640)\n",
      "\n",
      "0: 384x640 1 person, 54.5ms\n",
      "Speed: 1.5ms preprocess, 54.5ms inference, 0.6ms postprocess per image at shape (1, 3, 384, 640)\n"
     ]
    },
    {
     "name": "stdout",
     "output_type": "stream",
     "text": [
      "bbox: [     272.84      6.3813        1196      713.76]\n",
      "region: [[100 100]\n",
      " [200 200]]\n",
      "bbox: [      276.4      8.9223      1196.8       713.6]\n",
      "region: [[100 100]\n",
      " [200 200]]\n",
      "bbox: [     279.82      9.3777      1200.7      713.44]\n",
      "region: [[100 100]\n",
      " [200 200]]\n"
     ]
    },
    {
     "name": "stderr",
     "output_type": "stream",
     "text": [
      "\n",
      "0: 384x640 1 person, 53.4ms\n",
      "Speed: 1.9ms preprocess, 53.4ms inference, 0.6ms postprocess per image at shape (1, 3, 384, 640)\n",
      "\n",
      "0: 384x640 1 person, 55.6ms\n",
      "Speed: 1.6ms preprocess, 55.6ms inference, 0.6ms postprocess per image at shape (1, 3, 384, 640)\n",
      "\n",
      "0: 384x640 1 person, 54.8ms\n"
     ]
    },
    {
     "name": "stdout",
     "output_type": "stream",
     "text": [
      "bbox: [     282.12      9.0223      1196.3      713.89]\n",
      "region: [[100 100]\n",
      " [200 200]]\n",
      "bbox: [     282.01      8.6594      1196.8      713.88]\n",
      "region: [[100 100]\n",
      " [200 200]]\n"
     ]
    },
    {
     "name": "stderr",
     "output_type": "stream",
     "text": [
      "Speed: 1.6ms preprocess, 54.8ms inference, 0.6ms postprocess per image at shape (1, 3, 384, 640)\n",
      "\n",
      "0: 384x640 1 person, 57.0ms\n",
      "Speed: 1.8ms preprocess, 57.0ms inference, 0.6ms postprocess per image at shape (1, 3, 384, 640)\n",
      "\n",
      "0: 384x640 1 person, 51.8ms\n",
      "Speed: 1.8ms preprocess, 51.8ms inference, 0.6ms postprocess per image at shape (1, 3, 384, 640)\n"
     ]
    },
    {
     "name": "stdout",
     "output_type": "stream",
     "text": [
      "bbox: [     279.75      8.9487      1194.7      713.47]\n",
      "region: [[100 100]\n",
      " [200 200]]\n",
      "bbox: [     278.83      9.0837      1194.5      713.35]\n",
      "region: [[100 100]\n",
      " [200 200]]\n",
      "bbox: [     278.14      9.5783      1193.4      713.41]\n",
      "region: [[100 100]\n",
      " [200 200]]\n"
     ]
    },
    {
     "name": "stderr",
     "output_type": "stream",
     "text": [
      "\n",
      "0: 384x640 1 person, 56.4ms\n",
      "Speed: 2.1ms preprocess, 56.4ms inference, 0.6ms postprocess per image at shape (1, 3, 384, 640)\n",
      "\n",
      "0: 384x640 1 person, 53.8ms\n",
      "Speed: 1.7ms preprocess, 53.8ms inference, 0.6ms postprocess per image at shape (1, 3, 384, 640)\n",
      "\n",
      "0: 384x640 1 person, 54.3ms\n",
      "Speed: 1.7ms preprocess, 54.3ms inference, 0.6ms postprocess per image at shape (1, 3, 384, 640)\n"
     ]
    },
    {
     "name": "stdout",
     "output_type": "stream",
     "text": [
      "bbox: [     278.13      9.1259      1192.9       713.5]\n",
      "region: [[100 100]\n",
      " [200 200]]\n",
      "bbox: [     277.51      9.2216      1190.8      713.44]\n",
      "region: [[100 100]\n",
      " [200 200]]\n",
      "bbox: [      278.4      7.7632      1192.3      713.54]\n",
      "region: [[100 100]\n",
      " [200 200]]\n"
     ]
    },
    {
     "name": "stderr",
     "output_type": "stream",
     "text": [
      "\n",
      "0: 384x640 1 person, 53.3ms\n",
      "Speed: 1.6ms preprocess, 53.3ms inference, 0.6ms postprocess per image at shape (1, 3, 384, 640)\n",
      "\n",
      "0: 384x640 1 person, 55.5ms\n",
      "Speed: 1.8ms preprocess, 55.5ms inference, 0.6ms postprocess per image at shape (1, 3, 384, 640)\n",
      "\n",
      "0: 384x640 1 person, 54.6ms\n",
      "Speed: 1.9ms preprocess, 54.6ms inference, 0.6ms postprocess per image at shape (1, 3, 384, 640)\n"
     ]
    },
    {
     "name": "stdout",
     "output_type": "stream",
     "text": [
      "bbox: [     277.77      6.8847      1197.8      713.76]\n",
      "region: [[100 100]\n",
      " [200 200]]\n",
      "bbox: [     277.54      6.2579      1192.6      713.59]\n",
      "region: [[100 100]\n",
      " [200 200]]\n"
     ]
    },
    {
     "name": "stderr",
     "output_type": "stream",
     "text": [
      "\n",
      "0: 384x640 1 person, 69.6ms\n",
      "Speed: 1.7ms preprocess, 69.6ms inference, 0.6ms postprocess per image at shape (1, 3, 384, 640)\n",
      "\n"
     ]
    },
    {
     "name": "stdout",
     "output_type": "stream",
     "text": [
      "bbox: [     276.52      4.6476      1188.4      713.91]\n",
      "region: [[100 100]\n",
      " [200 200]]\n",
      "bbox: [     276.73      5.2198        1192      713.84]\n",
      "region: [[100 100]\n",
      " [200 200]]\n"
     ]
    },
    {
     "name": "stderr",
     "output_type": "stream",
     "text": [
      "0: 384x640 1 person, 58.7ms\n",
      "Speed: 1.6ms preprocess, 58.7ms inference, 0.6ms postprocess per image at shape (1, 3, 384, 640)\n",
      "\n",
      "0: 384x640 1 person, 55.3ms\n",
      "Speed: 1.6ms preprocess, 55.3ms inference, 0.6ms postprocess per image at shape (1, 3, 384, 640)\n",
      "\n",
      "0: 384x640 1 person, 54.6ms\n",
      "Speed: 1.8ms preprocess, 54.6ms inference, 0.6ms postprocess per image at shape (1, 3, 384, 640)\n"
     ]
    },
    {
     "name": "stdout",
     "output_type": "stream",
     "text": [
      "bbox: [     276.37      7.3907      1191.5      713.82]\n",
      "region: [[100 100]\n",
      " [200 200]]\n",
      "bbox: [     276.22      7.9626      1190.2      713.88]\n",
      "region: [[100 100]\n",
      " [200 200]]\n",
      "bbox: [     276.32      7.7098      1192.9      714.05]\n",
      "region: [[100 100]\n",
      " [200 200]]\n"
     ]
    },
    {
     "name": "stderr",
     "output_type": "stream",
     "text": [
      "\n",
      "0: 384x640 1 person, 54.7ms\n",
      "Speed: 1.8ms preprocess, 54.7ms inference, 0.6ms postprocess per image at shape (1, 3, 384, 640)\n",
      "\n",
      "0: 384x640 1 person, 52.8ms\n",
      "Speed: 1.9ms preprocess, 52.8ms inference, 0.6ms postprocess per image at shape (1, 3, 384, 640)\n",
      "\n",
      "0: 384x640 1 person, 54.3ms\n",
      "Speed: 1.6ms preprocess, 54.3ms inference, 0.6ms postprocess per image at shape (1, 3, 384, 640)\n"
     ]
    },
    {
     "name": "stdout",
     "output_type": "stream",
     "text": [
      "bbox: [      276.7      7.0822      1191.5      714.08]\n",
      "region: [[100 100]\n",
      " [200 200]]\n",
      "bbox: [     277.09      8.4168      1193.2      713.93]\n",
      "region: [[100 100]\n",
      " [200 200]]\n"
     ]
    },
    {
     "name": "stderr",
     "output_type": "stream",
     "text": [
      "\n",
      "0: 384x640 1 person, 52.4ms\n",
      "Speed: 1.7ms preprocess, 52.4ms inference, 0.6ms postprocess per image at shape (1, 3, 384, 640)\n",
      "\n"
     ]
    },
    {
     "name": "stdout",
     "output_type": "stream",
     "text": [
      "bbox: [     277.52      6.3879      1192.8      713.77]\n",
      "region: [[100 100]\n",
      " [200 200]]\n",
      "bbox: [     276.44      8.2592      1200.8      714.03]\n",
      "region: [[100 100]\n",
      " [200 200]]\n"
     ]
    },
    {
     "name": "stderr",
     "output_type": "stream",
     "text": [
      "0: 384x640 1 person, 67.7ms\n",
      "Speed: 1.9ms preprocess, 67.7ms inference, 0.7ms postprocess per image at shape (1, 3, 384, 640)\n",
      "\n",
      "0: 384x640 1 person, 60.0ms\n",
      "Speed: 2.0ms preprocess, 60.0ms inference, 0.8ms postprocess per image at shape (1, 3, 384, 640)\n",
      "\n",
      "0: 384x640 1 person, 67.2ms\n",
      "Speed: 1.6ms preprocess, 67.2ms inference, 0.7ms postprocess per image at shape (1, 3, 384, 640)\n"
     ]
    },
    {
     "name": "stdout",
     "output_type": "stream",
     "text": [
      "bbox: [     276.63      7.9142      1199.3      714.15]\n",
      "region: [[100 100]\n",
      " [200 200]]\n",
      "bbox: [      276.5      4.7916      1202.2      713.99]\n",
      "region: [[100 100]\n",
      " [200 200]]\n",
      "bbox: [     275.84      7.2325      1203.7      713.98]\n",
      "region: [[100 100]\n",
      " [200 200]]\n"
     ]
    },
    {
     "name": "stderr",
     "output_type": "stream",
     "text": [
      "\n",
      "0: 384x640 1 person, 61.1ms\n",
      "Speed: 2.1ms preprocess, 61.1ms inference, 0.7ms postprocess per image at shape (1, 3, 384, 640)\n",
      "\n",
      "0: 384x640 1 person, 55.9ms\n",
      "Speed: 1.7ms preprocess, 55.9ms inference, 0.6ms postprocess per image at shape (1, 3, 384, 640)\n",
      "\n",
      "0: 384x640 1 person, 54.3ms\n",
      "Speed: 1.6ms preprocess, 54.3ms inference, 0.6ms postprocess per image at shape (1, 3, 384, 640)\n"
     ]
    },
    {
     "name": "stdout",
     "output_type": "stream",
     "text": [
      "bbox: [     275.98      4.5456      1201.1      713.96]\n",
      "region: [[100 100]\n",
      " [200 200]]\n",
      "bbox: [      276.1      6.8019      1197.7      714.09]\n",
      "region: [[100 100]\n",
      " [200 200]]\n",
      "bbox: [     275.81      3.9252        1200      713.91]\n",
      "region: [[100 100]\n",
      " [200 200]]\n"
     ]
    },
    {
     "name": "stderr",
     "output_type": "stream",
     "text": [
      "\n",
      "0: 384x640 1 person, 54.6ms\n",
      "Speed: 1.8ms preprocess, 54.6ms inference, 0.6ms postprocess per image at shape (1, 3, 384, 640)\n",
      "\n",
      "0: 384x640 1 person, 53.4ms\n",
      "Speed: 1.6ms preprocess, 53.4ms inference, 0.6ms postprocess per image at shape (1, 3, 384, 640)\n",
      "\n"
     ]
    },
    {
     "name": "stdout",
     "output_type": "stream",
     "text": [
      "bbox: [     275.45      3.0621        1198      713.97]\n",
      "region: [[100 100]\n",
      " [200 200]]\n",
      "bbox: [     276.51      4.5023      1198.3      714.03]\n",
      "region: [[100 100]\n",
      " [200 200]]\n"
     ]
    },
    {
     "name": "stderr",
     "output_type": "stream",
     "text": [
      "0: 384x640 1 person, 53.1ms\n",
      "Speed: 1.7ms preprocess, 53.1ms inference, 0.6ms postprocess per image at shape (1, 3, 384, 640)\n"
     ]
    },
    {
     "name": "stdout",
     "output_type": "stream",
     "text": [
      "bbox: [     275.88      3.2996      1194.4      713.97]\n",
      "region: [[100 100]\n",
      " [200 200]]\n"
     ]
    }
   ],
   "source": [
    "import numpy as np\n",
    "\n",
    "# Open the web camera stream\n",
    "cp = cv2.VideoCapture(0)\n",
    "# Define the red region (modify these values according to your needs)\n",
    "red_region = np.array([[100, 100], [200, 200]])\n",
    "\n",
    "def in_region(bbox, region):\n",
    "    # Check if the bounding box intersects with the region\n",
    "    print(f\"bbox: {bbox.xyxy[0]}\")\n",
    "    print(f\"region: {region}\")\n",
    "    x_left = max(bbox.xyxy[0][0], region[0][0])\n",
    "    y_top = max(bbox.xyxy[0][1], region[0][1])\n",
    "    x_right = min(bbox.xyxy[0][2], region[1][0])\n",
    "    y_bottom = min(bbox.xyxy[0][3], region[1][1])\n",
    "\n",
    "    # If the bounding box and the region intersect, the intersection will have positive area\n",
    "    if x_right < x_left or y_bottom < y_top:\n",
    "        return False\n",
    "    return True\n",
    "\n",
    "\n",
    "while cap.isOpened():\n",
    "    success, frame = cap.read()\n",
    "    k = cv2.waitKey(1)\n",
    "\n",
    "    if k == ord('q'):  # 'q' キーが押されたら終了する\n",
    "        break\n",
    "    if success:\n",
    "        results = model(frame)\n",
    "        annotated_frame = results[0].plot()\n",
    "\n",
    "        # Draw the red region on the frame\n",
    "        cv2.rectangle(annotated_frame, tuple(red_region[0]), tuple(red_region[1]), (0, 0, 255), 2)\n",
    "\n",
    "        # Check if any object is in the red region\n",
    "        for obj in results:\n",
    "            bbox = obj.boxes[0].numpy()[:4]\n",
    "            if in_region(bbox, red_region):\n",
    "                cv2.putText(annotated_frame, 'Warning: Object detected in the red region!', (50, 50), cv2.FONT_HERSHEY_SIMPLEX, 1, (0, 0, 255), 2)\n",
    "\n",
    "        cv2.imshow(\"YOLOv8 Inference\", annotated_frame)\n",
    "\n",
    "cap.release()\n",
    "cv2.destroyAllWindows()\n",
    "\n",
    "\n",
    "\n"
   ]
  }
 ],
 "metadata": {
  "kernelspec": {
   "display_name": "venv",
   "language": "python",
   "name": "python3"
  },
  "language_info": {
   "codemirror_mode": {
    "name": "ipython",
    "version": 3
   },
   "file_extension": ".py",
   "mimetype": "text/x-python",
   "name": "python",
   "nbconvert_exporter": "python",
   "pygments_lexer": "ipython3",
   "version": "3.8.9"
  }
 },
 "nbformat": 4,
 "nbformat_minor": 2
}
