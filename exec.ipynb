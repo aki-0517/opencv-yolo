{
 "cells": [
  {
   "cell_type": "code",
   "execution_count": 1,
   "metadata": {},
   "outputs": [
    {
     "name": "stderr",
     "output_type": "stream",
     "text": [
      "/Users/onoakinobu/Desktop/opencv/venv/lib/python3.8/site-packages/urllib3/__init__.py:34: NotOpenSSLWarning: urllib3 v2.0 only supports OpenSSL 1.1.1+, currently the 'ssl' module is compiled with 'LibreSSL 2.8.3'. See: https://github.com/urllib3/urllib3/issues/3020\n",
      "  warnings.warn(\n"
     ]
    }
   ],
   "source": [
    "from ultralytics import YOLO\n",
    "import cv2\n",
    "\n",
    "# モデル読み込み\n",
    "model = YOLO(\"yolov8n.pt\")\n"
   ]
  },
  {
   "cell_type": "code",
   "execution_count": 2,
   "metadata": {},
   "outputs": [
    {
     "name": "stderr",
     "output_type": "stream",
     "text": [
      "\n",
      "image 1/1 /Users/onoakinobu/Desktop/opencv/img/surfer.jpeg: 448x640 1 person, 1 surfboard, 100.1ms\n",
      "Speed: 4.4ms preprocess, 100.1ms inference, 45.0ms postprocess per image at shape (1, 3, 448, 640)\n",
      "Results saved to \u001b[1m/Users/onoakinobu/Desktop/opencv/runs/detect/predict2\u001b[0m\n"
     ]
    }
   ],
   "source": [
    "results = model('img/surfer.jpeg',save=True) "
   ]
  },
  {
   "cell_type": "code",
   "execution_count": 3,
   "metadata": {},
   "outputs": [
    {
     "name": "stderr",
     "output_type": "stream",
     "text": [
      "\n",
      "image 1/1 /Users/onoakinobu/Desktop/opencv/img/hama.jpeg: 448x640 23 persons, 1 frisbee, 1 surfboard, 65.2ms\n",
      "Speed: 2.1ms preprocess, 65.2ms inference, 0.7ms postprocess per image at shape (1, 3, 448, 640)\n",
      "Results saved to \u001b[1m/Users/onoakinobu/Desktop/opencv/runs/detect/predict2\u001b[0m\n"
     ]
    }
   ],
   "source": [
    "results = model('img/hama.jpeg',save=True) "
   ]
  },
  {
   "cell_type": "code",
   "execution_count": 4,
   "metadata": {},
   "outputs": [
    {
     "name": "stderr",
     "output_type": "stream",
     "text": [
      "\n",
      "image 1/1 /Users/onoakinobu/Desktop/opencv/img/hama2.webp: 384x640 3 persons, 72.5ms\n",
      "Speed: 2.0ms preprocess, 72.5ms inference, 1.1ms postprocess per image at shape (1, 3, 384, 640)\n",
      "Results saved to \u001b[1m/Users/onoakinobu/Desktop/opencv/runs/detect/predict2\u001b[0m\n"
     ]
    }
   ],
   "source": [
    "results = model('img/hama2.webp',save=True) "
   ]
  },
  {
   "cell_type": "code",
   "execution_count": 6,
   "metadata": {},
   "outputs": [
    {
     "name": "stderr",
     "output_type": "stream",
     "text": [
      "\n",
      "\n",
      "WARNING ⚠️ inference results will accumulate in RAM unless `stream=True` is passed, causing potential out-of-memory\n",
      "errors for large sources or long-running streams and videos. See https://docs.ultralytics.com/modes/predict/ for help.\n",
      "\n",
      "Example:\n",
      "    results = model(source=..., stream=True)  # generator of Results objects\n",
      "    for r in results:\n",
      "        boxes = r.boxes  # Boxes object for bbox outputs\n",
      "        masks = r.masks  # Masks object for segment masks outputs\n",
      "        probs = r.probs  # Class probabilities for classification outputs\n",
      "\n",
      "video 1/1 (1/900) /Users/onoakinobu/Desktop/opencv/movie/MOT17-12-SDP-raw.webm: 384x640 8 persons, 1 handbag, 74.3ms\n",
      "video 1/1 (2/900) /Users/onoakinobu/Desktop/opencv/movie/MOT17-12-SDP-raw.webm: 384x640 7 persons, 1 backpack, 1 handbag, 60.6ms\n",
      "video 1/1 (3/900) /Users/onoakinobu/Desktop/opencv/movie/MOT17-12-SDP-raw.webm: 384x640 9 persons, 1 handbag, 59.4ms\n",
      "video 1/1 (4/900) /Users/onoakinobu/Desktop/opencv/movie/MOT17-12-SDP-raw.webm: 384x640 8 persons, 1 handbag, 55.4ms\n",
      "video 1/1 (5/900) /Users/onoakinobu/Desktop/opencv/movie/MOT17-12-SDP-raw.webm: 384x640 8 persons, 1 umbrella, 1 handbag, 57.0ms\n",
      "video 1/1 (6/900) /Users/onoakinobu/Desktop/opencv/movie/MOT17-12-SDP-raw.webm: 384x640 8 persons, 1 backpack, 1 umbrella, 1 handbag, 60.6ms\n",
      "video 1/1 (7/900) /Users/onoakinobu/Desktop/opencv/movie/MOT17-12-SDP-raw.webm: 384x640 10 persons, 1 backpack, 1 handbag, 53.9ms\n",
      "video 1/1 (8/900) /Users/onoakinobu/Desktop/opencv/movie/MOT17-12-SDP-raw.webm: 384x640 10 persons, 1 umbrella, 1 handbag, 54.5ms\n",
      "video 1/1 (9/900) /Users/onoakinobu/Desktop/opencv/movie/MOT17-12-SDP-raw.webm: 384x640 9 persons, 2 handbags, 55.1ms\n",
      "video 1/1 (10/900) /Users/onoakinobu/Desktop/opencv/movie/MOT17-12-SDP-raw.webm: 384x640 9 persons, 2 handbags, 1 dining table, 57.0ms\n",
      "video 1/1 (11/900) /Users/onoakinobu/Desktop/opencv/movie/MOT17-12-SDP-raw.webm: 384x640 9 persons, 2 handbags, 61.7ms\n",
      "video 1/1 (12/900) /Users/onoakinobu/Desktop/opencv/movie/MOT17-12-SDP-raw.webm: 384x640 10 persons, 2 handbags, 67.5ms\n",
      "video 1/1 (13/900) /Users/onoakinobu/Desktop/opencv/movie/MOT17-12-SDP-raw.webm: 384x640 9 persons, 3 handbags, 61.1ms\n",
      "video 1/1 (14/900) /Users/onoakinobu/Desktop/opencv/movie/MOT17-12-SDP-raw.webm: 384x640 8 persons, 2 handbags, 1 suitcase, 66.7ms\n",
      "video 1/1 (15/900) /Users/onoakinobu/Desktop/opencv/movie/MOT17-12-SDP-raw.webm: 384x640 6 persons, 2 handbags, 88.8ms\n",
      "video 1/1 (16/900) /Users/onoakinobu/Desktop/opencv/movie/MOT17-12-SDP-raw.webm: 384x640 7 persons, 1 umbrella, 2 handbags, 112.5ms\n",
      "video 1/1 (17/900) /Users/onoakinobu/Desktop/opencv/movie/MOT17-12-SDP-raw.webm: 384x640 7 persons, 2 handbags, 1 suitcase, 100.7ms\n",
      "video 1/1 (18/900) /Users/onoakinobu/Desktop/opencv/movie/MOT17-12-SDP-raw.webm: 384x640 8 persons, 3 handbags, 87.7ms\n",
      "video 1/1 (19/900) /Users/onoakinobu/Desktop/opencv/movie/MOT17-12-SDP-raw.webm: 384x640 8 persons, 2 handbags, 1 suitcase, 68.7ms\n",
      "video 1/1 (20/900) /Users/onoakinobu/Desktop/opencv/movie/MOT17-12-SDP-raw.webm: 384x640 6 persons, 2 handbags, 59.9ms\n",
      "video 1/1 (21/900) /Users/onoakinobu/Desktop/opencv/movie/MOT17-12-SDP-raw.webm: 384x640 7 persons, 2 handbags, 62.6ms\n",
      "video 1/1 (22/900) /Users/onoakinobu/Desktop/opencv/movie/MOT17-12-SDP-raw.webm: 384x640 6 persons, 2 handbags, 59.4ms\n",
      "video 1/1 (23/900) /Users/onoakinobu/Desktop/opencv/movie/MOT17-12-SDP-raw.webm: 384x640 7 persons, 1 handbag, 60.3ms\n",
      "video 1/1 (24/900) /Users/onoakinobu/Desktop/opencv/movie/MOT17-12-SDP-raw.webm: 384x640 8 persons, 1 handbag, 54.5ms\n",
      "video 1/1 (25/900) /Users/onoakinobu/Desktop/opencv/movie/MOT17-12-SDP-raw.webm: 384x640 7 persons, 1 handbag, 55.1ms\n",
      "video 1/1 (26/900) /Users/onoakinobu/Desktop/opencv/movie/MOT17-12-SDP-raw.webm: 384x640 8 persons, 1 handbag, 54.3ms\n",
      "video 1/1 (27/900) /Users/onoakinobu/Desktop/opencv/movie/MOT17-12-SDP-raw.webm: 384x640 8 persons, 1 handbag, 56.2ms\n",
      "video 1/1 (28/900) /Users/onoakinobu/Desktop/opencv/movie/MOT17-12-SDP-raw.webm: 384x640 8 persons, 1 handbag, 59.0ms\n",
      "video 1/1 (29/900) /Users/onoakinobu/Desktop/opencv/movie/MOT17-12-SDP-raw.webm: 384x640 9 persons, 2 handbags, 56.7ms\n",
      "video 1/1 (30/900) /Users/onoakinobu/Desktop/opencv/movie/MOT17-12-SDP-raw.webm: 384x640 5 persons, 2 handbags, 58.8ms\n",
      "video 1/1 (31/900) /Users/onoakinobu/Desktop/opencv/movie/MOT17-12-SDP-raw.webm: 384x640 9 persons, 1 handbag, 59.1ms\n",
      "video 1/1 (32/900) /Users/onoakinobu/Desktop/opencv/movie/MOT17-12-SDP-raw.webm: 384x640 7 persons, 2 handbags, 59.5ms\n",
      "video 1/1 (33/900) /Users/onoakinobu/Desktop/opencv/movie/MOT17-12-SDP-raw.webm: 384x640 6 persons, 1 handbag, 58.2ms\n",
      "video 1/1 (34/900) /Users/onoakinobu/Desktop/opencv/movie/MOT17-12-SDP-raw.webm: 384x640 7 persons, 1 handbag, 1 suitcase, 61.3ms\n",
      "video 1/1 (35/900) /Users/onoakinobu/Desktop/opencv/movie/MOT17-12-SDP-raw.webm: 384x640 4 persons, 2 handbags, 1 suitcase, 61.6ms\n",
      "video 1/1 (36/900) /Users/onoakinobu/Desktop/opencv/movie/MOT17-12-SDP-raw.webm: 384x640 4 persons, 2 handbags, 59.3ms\n",
      "video 1/1 (37/900) /Users/onoakinobu/Desktop/opencv/movie/MOT17-12-SDP-raw.webm: 384x640 4 persons, 2 handbags, 61.1ms\n",
      "video 1/1 (38/900) /Users/onoakinobu/Desktop/opencv/movie/MOT17-12-SDP-raw.webm: 384x640 4 persons, 2 handbags, 58.8ms\n",
      "video 1/1 (39/900) /Users/onoakinobu/Desktop/opencv/movie/MOT17-12-SDP-raw.webm: 384x640 4 persons, 2 handbags, 60.3ms\n",
      "video 1/1 (40/900) /Users/onoakinobu/Desktop/opencv/movie/MOT17-12-SDP-raw.webm: 384x640 5 persons, 2 handbags, 59.4ms\n",
      "video 1/1 (41/900) /Users/onoakinobu/Desktop/opencv/movie/MOT17-12-SDP-raw.webm: 384x640 4 persons, 1 handbag, 58.4ms\n",
      "video 1/1 (42/900) /Users/onoakinobu/Desktop/opencv/movie/MOT17-12-SDP-raw.webm: 384x640 4 persons, 1 handbag, 58.6ms\n",
      "video 1/1 (43/900) /Users/onoakinobu/Desktop/opencv/movie/MOT17-12-SDP-raw.webm: 384x640 4 persons, 1 handbag, 69.7ms\n",
      "video 1/1 (44/900) /Users/onoakinobu/Desktop/opencv/movie/MOT17-12-SDP-raw.webm: 384x640 4 persons, 2 handbags, 64.3ms\n",
      "video 1/1 (45/900) /Users/onoakinobu/Desktop/opencv/movie/MOT17-12-SDP-raw.webm: 384x640 4 persons, 1 handbag, 65.3ms\n",
      "video 1/1 (46/900) /Users/onoakinobu/Desktop/opencv/movie/MOT17-12-SDP-raw.webm: 384x640 4 persons, 2 handbags, 66.7ms\n",
      "video 1/1 (47/900) /Users/onoakinobu/Desktop/opencv/movie/MOT17-12-SDP-raw.webm: 384x640 4 persons, 2 handbags, 77.7ms\n",
      "video 1/1 (48/900) /Users/onoakinobu/Desktop/opencv/movie/MOT17-12-SDP-raw.webm: 384x640 5 persons, 2 handbags, 81.2ms\n",
      "video 1/1 (49/900) /Users/onoakinobu/Desktop/opencv/movie/MOT17-12-SDP-raw.webm: 384x640 4 persons, 2 handbags, 72.5ms\n",
      "video 1/1 (50/900) /Users/onoakinobu/Desktop/opencv/movie/MOT17-12-SDP-raw.webm: 384x640 4 persons, 2 handbags, 67.6ms\n",
      "video 1/1 (51/900) /Users/onoakinobu/Desktop/opencv/movie/MOT17-12-SDP-raw.webm: 384x640 5 persons, 1 handbag, 69.8ms\n",
      "video 1/1 (52/900) /Users/onoakinobu/Desktop/opencv/movie/MOT17-12-SDP-raw.webm: 384x640 6 persons, 2 handbags, 79.9ms\n",
      "video 1/1 (53/900) /Users/onoakinobu/Desktop/opencv/movie/MOT17-12-SDP-raw.webm: 384x640 7 persons, 2 handbags, 82.7ms\n",
      "video 1/1 (54/900) /Users/onoakinobu/Desktop/opencv/movie/MOT17-12-SDP-raw.webm: 384x640 7 persons, 2 handbags, 131.1ms\n",
      "video 1/1 (55/900) /Users/onoakinobu/Desktop/opencv/movie/MOT17-12-SDP-raw.webm: 384x640 6 persons, 2 handbags, 96.9ms\n",
      "video 1/1 (56/900) /Users/onoakinobu/Desktop/opencv/movie/MOT17-12-SDP-raw.webm: 384x640 7 persons, 2 handbags, 95.1ms\n",
      "video 1/1 (57/900) /Users/onoakinobu/Desktop/opencv/movie/MOT17-12-SDP-raw.webm: 384x640 7 persons, 2 handbags, 194.2ms\n",
      "video 1/1 (58/900) /Users/onoakinobu/Desktop/opencv/movie/MOT17-12-SDP-raw.webm: 384x640 9 persons, 1 handbag, 101.9ms\n",
      "video 1/1 (59/900) /Users/onoakinobu/Desktop/opencv/movie/MOT17-12-SDP-raw.webm: 384x640 6 persons, 2 handbags, 82.3ms\n",
      "video 1/1 (60/900) /Users/onoakinobu/Desktop/opencv/movie/MOT17-12-SDP-raw.webm: 384x640 6 persons, 1 handbag, 73.0ms\n",
      "video 1/1 (61/900) /Users/onoakinobu/Desktop/opencv/movie/MOT17-12-SDP-raw.webm: 384x640 5 persons, 2 handbags, 72.8ms\n",
      "video 1/1 (62/900) /Users/onoakinobu/Desktop/opencv/movie/MOT17-12-SDP-raw.webm: 384x640 6 persons, 2 handbags, 71.3ms\n",
      "video 1/1 (63/900) /Users/onoakinobu/Desktop/opencv/movie/MOT17-12-SDP-raw.webm: 384x640 7 persons, 2 handbags, 71.7ms\n",
      "video 1/1 (64/900) /Users/onoakinobu/Desktop/opencv/movie/MOT17-12-SDP-raw.webm: 384x640 6 persons, 2 handbags, 73.9ms\n",
      "video 1/1 (65/900) /Users/onoakinobu/Desktop/opencv/movie/MOT17-12-SDP-raw.webm: 384x640 9 persons, 2 handbags, 69.2ms\n",
      "video 1/1 (66/900) /Users/onoakinobu/Desktop/opencv/movie/MOT17-12-SDP-raw.webm: 384x640 8 persons, 1 handbag, 70.1ms\n",
      "video 1/1 (67/900) /Users/onoakinobu/Desktop/opencv/movie/MOT17-12-SDP-raw.webm: 384x640 6 persons, 2 handbags, 69.3ms\n",
      "video 1/1 (68/900) /Users/onoakinobu/Desktop/opencv/movie/MOT17-12-SDP-raw.webm: 384x640 7 persons, 2 handbags, 74.1ms\n",
      "video 1/1 (69/900) /Users/onoakinobu/Desktop/opencv/movie/MOT17-12-SDP-raw.webm: 384x640 7 persons, 1 handbag, 76.0ms\n",
      "video 1/1 (70/900) /Users/onoakinobu/Desktop/opencv/movie/MOT17-12-SDP-raw.webm: 384x640 8 persons, 2 handbags, 71.9ms\n",
      "video 1/1 (71/900) /Users/onoakinobu/Desktop/opencv/movie/MOT17-12-SDP-raw.webm: 384x640 7 persons, 3 handbags, 67.6ms\n",
      "video 1/1 (72/900) /Users/onoakinobu/Desktop/opencv/movie/MOT17-12-SDP-raw.webm: 384x640 7 persons, 3 handbags, 79.3ms\n",
      "video 1/1 (73/900) /Users/onoakinobu/Desktop/opencv/movie/MOT17-12-SDP-raw.webm: 384x640 8 persons, 2 handbags, 74.9ms\n",
      "video 1/1 (74/900) /Users/onoakinobu/Desktop/opencv/movie/MOT17-12-SDP-raw.webm: 384x640 7 persons, 3 handbags, 70.9ms\n",
      "video 1/1 (75/900) /Users/onoakinobu/Desktop/opencv/movie/MOT17-12-SDP-raw.webm: 384x640 8 persons, 3 handbags, 69.0ms\n",
      "video 1/1 (76/900) /Users/onoakinobu/Desktop/opencv/movie/MOT17-12-SDP-raw.webm: 384x640 8 persons, 1 handbag, 80.6ms\n",
      "video 1/1 (77/900) /Users/onoakinobu/Desktop/opencv/movie/MOT17-12-SDP-raw.webm: 384x640 7 persons, 2 handbags, 76.5ms\n"
     ]
    },
    {
     "ename": "",
     "evalue": "",
     "output_type": "error",
     "traceback": [
      "\u001b[1;31mThe Kernel crashed while executing code in the the current cell or a previous cell. Please review the code in the cell(s) to identify a possible cause of the failure. Click <a href='https://aka.ms/vscodeJupyterKernelCrash'>here</a> for more info. View Jupyter <a href='command:jupyter.viewOutput'>log</a> for further details."
     ]
    }
   ],
   "source": [
    "results = model(\"movie/MOT17-12-SDP-raw.webm\", save=True)"
   ]
  },
  {
   "cell_type": "code",
   "execution_count": 12,
   "metadata": {},
   "outputs": [
    {
     "name": "stderr",
     "output_type": "stream",
     "text": [
      "\n",
      "0: 384x640 1 person, 88.4ms\n",
      "Speed: 2.4ms preprocess, 88.4ms inference, 1.4ms postprocess per image at shape (1, 3, 384, 640)\n"
     ]
    },
    {
     "name": "stdout",
     "output_type": "stream",
     "text": [
      "type: <class 'list'>\n",
      "result: [ultralytics.engine.results.Results object with attributes:\n",
      "\n",
      "boxes: ultralytics.engine.results.Boxes object\n",
      "keypoints: None\n",
      "masks: None\n",
      "names: {0: 'person', 1: 'bicycle', 2: 'car', 3: 'motorcycle', 4: 'airplane', 5: 'bus', 6: 'train', 7: 'truck', 8: 'boat', 9: 'traffic light', 10: 'fire hydrant', 11: 'stop sign', 12: 'parking meter', 13: 'bench', 14: 'bird', 15: 'cat', 16: 'dog', 17: 'horse', 18: 'sheep', 19: 'cow', 20: 'elephant', 21: 'bear', 22: 'zebra', 23: 'giraffe', 24: 'backpack', 25: 'umbrella', 26: 'handbag', 27: 'tie', 28: 'suitcase', 29: 'frisbee', 30: 'skis', 31: 'snowboard', 32: 'sports ball', 33: 'kite', 34: 'baseball bat', 35: 'baseball glove', 36: 'skateboard', 37: 'surfboard', 38: 'tennis racket', 39: 'bottle', 40: 'wine glass', 41: 'cup', 42: 'fork', 43: 'knife', 44: 'spoon', 45: 'bowl', 46: 'banana', 47: 'apple', 48: 'sandwich', 49: 'orange', 50: 'broccoli', 51: 'carrot', 52: 'hot dog', 53: 'pizza', 54: 'donut', 55: 'cake', 56: 'chair', 57: 'couch', 58: 'potted plant', 59: 'bed', 60: 'dining table', 61: 'toilet', 62: 'tv', 63: 'laptop', 64: 'mouse', 65: 'remote', 66: 'keyboard', 67: 'cell phone', 68: 'microwave', 69: 'oven', 70: 'toaster', 71: 'sink', 72: 'refrigerator', 73: 'book', 74: 'clock', 75: 'vase', 76: 'scissors', 77: 'teddy bear', 78: 'hair drier', 79: 'toothbrush'}\n",
      "orig_img: array([[[133, 143, 141],\n",
      "        [131, 141, 140],\n",
      "        [129, 138, 139],\n",
      "        ...,\n",
      "        [179, 188, 189],\n",
      "        [177, 186, 187],\n",
      "        [175, 184, 184]],\n",
      "\n",
      "       [[137, 147, 145],\n",
      "        [134, 144, 142],\n",
      "        [138, 148, 147],\n",
      "        ...,\n",
      "        [173, 183, 183],\n",
      "        [185, 194, 195],\n",
      "        [188, 198, 198]],\n",
      "\n",
      "       [[144, 154, 152],\n",
      "        [134, 144, 142],\n",
      "        [135, 145, 143],\n",
      "        ...,\n",
      "        [193, 202, 203],\n",
      "        [198, 207, 207],\n",
      "        [201, 210, 211]],\n",
      "\n",
      "       ...,\n",
      "\n",
      "       [[237, 247, 247],\n",
      "        [204, 213, 213],\n",
      "        [175, 184, 184],\n",
      "        ...,\n",
      "        [253, 255, 253],\n",
      "        [253, 255, 253],\n",
      "        [253, 255, 253]],\n",
      "\n",
      "       [[228, 236, 239],\n",
      "        [197, 205, 208],\n",
      "        [157, 165, 168],\n",
      "        ...,\n",
      "        [253, 255, 253],\n",
      "        [253, 255, 253],\n",
      "        [253, 255, 253]],\n",
      "\n",
      "       [[218, 226, 229],\n",
      "        [169, 177, 180],\n",
      "        [143, 151, 154],\n",
      "        ...,\n",
      "        [253, 255, 253],\n",
      "        [253, 255, 253],\n",
      "        [253, 255, 253]]], dtype=uint8)\n",
      "orig_shape: (720, 1280)\n",
      "path: 'image0.jpg'\n",
      "probs: None\n",
      "save_dir: None\n",
      "speed: {'preprocess': 2.439260482788086, 'inference': 88.37199211120605, 'postprocess': 1.360177993774414}]\n"
     ]
    },
    {
     "ename": "AttributeError",
     "evalue": "'list' object has no attribute 'xyxy'",
     "output_type": "error",
     "traceback": [
      "\u001b[0;31m---------------------------------------------------------------------------\u001b[0m",
      "\u001b[0;31mAttributeError\u001b[0m                            Traceback (most recent call last)",
      "\u001b[1;32m/Users/onoakinobu/Desktop/opencv/exec.ipynb セル 6\u001b[0m line \u001b[0;36m1\n\u001b[1;32m     <a href='vscode-notebook-cell:/Users/onoakinobu/Desktop/opencv/exec.ipynb#W5sZmlsZQ%3D%3D?line=13'>14</a>\u001b[0m \u001b[39mprint\u001b[39m(\u001b[39m'\u001b[39m\u001b[39mresult:\u001b[39m\u001b[39m'\u001b[39m,results)\n\u001b[1;32m     <a href='vscode-notebook-cell:/Users/onoakinobu/Desktop/opencv/exec.ipynb#W5sZmlsZQ%3D%3D?line=15'>16</a>\u001b[0m \u001b[39m# 検出された物体を描画\u001b[39;00m\n\u001b[0;32m---> <a href='vscode-notebook-cell:/Users/onoakinobu/Desktop/opencv/exec.ipynb#W5sZmlsZQ%3D%3D?line=16'>17</a>\u001b[0m \u001b[39mfor\u001b[39;00m result \u001b[39min\u001b[39;00m results\u001b[39m.\u001b[39;49mxyxy[\u001b[39m0\u001b[39m]:\n\u001b[1;32m     <a href='vscode-notebook-cell:/Users/onoakinobu/Desktop/opencv/exec.ipynb#W5sZmlsZQ%3D%3D?line=17'>18</a>\u001b[0m     \u001b[39m# 座標を取得\u001b[39;00m\n\u001b[1;32m     <a href='vscode-notebook-cell:/Users/onoakinobu/Desktop/opencv/exec.ipynb#W5sZmlsZQ%3D%3D?line=18'>19</a>\u001b[0m     x1, y1, x2, y2 \u001b[39m=\u001b[39m \u001b[39mmap\u001b[39m(\u001b[39mint\u001b[39m, result[:\u001b[39m4\u001b[39m])\n\u001b[1;32m     <a href='vscode-notebook-cell:/Users/onoakinobu/Desktop/opencv/exec.ipynb#W5sZmlsZQ%3D%3D?line=19'>20</a>\u001b[0m     \u001b[39m# フレームに矩形を描画\u001b[39;00m\n",
      "\u001b[0;31mAttributeError\u001b[0m: 'list' object has no attribute 'xyxy'"
     ]
    }
   ],
   "source": [
    "# カメラの初期化（ここではデフォルトカメラを使用）\n",
    "cap = cv2.VideoCapture(0)\n",
    "\n",
    "while True:\n",
    "    # フレームの取得\n",
    "    ret, frame = cap.read()\n",
    "    if not ret:\n",
    "        break\n",
    "\n",
    "    # YOLOモデルを適用\n",
    "    results = model(frame)\n",
    "\n",
    "    print('type:',type(results))\n",
    "    print('result:',results)\n",
    "\n",
    "    # 検出された物体を描画\n",
    "    for result in results.xyxy[0]:\n",
    "        # 座標を取得\n",
    "        x1, y1, x2, y2 = map(int, result[:4])\n",
    "        # フレームに矩形を描画\n",
    "        cv2.rectangle(frame, (x1, y1), (x2, y2), (0, 255, 0), 2)\n",
    "\n",
    "    cv2.imshow('frame', frame)\n",
    "\n",
    "    # 'q'キーが押されたら終了\n",
    "    if cv2.waitKey(1) & 0xFF == ord('q'):\n",
    "        break\n",
    "\n",
    "# カメラリソースの解放\n",
    "cap.release()\n",
    "cv2.destroyAllWindows()"
   ]
  }
 ],
 "metadata": {
  "kernelspec": {
   "display_name": "venv",
   "language": "python",
   "name": "python3"
  },
  "language_info": {
   "codemirror_mode": {
    "name": "ipython",
    "version": 3
   },
   "file_extension": ".py",
   "mimetype": "text/x-python",
   "name": "python",
   "nbconvert_exporter": "python",
   "pygments_lexer": "ipython3",
   "version": "3.8.9"
  }
 },
 "nbformat": 4,
 "nbformat_minor": 2
}
