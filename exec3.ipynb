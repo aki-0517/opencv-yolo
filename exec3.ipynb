{
 "cells": [
  {
   "cell_type": "code",
   "execution_count": 18,
   "metadata": {},
   "outputs": [],
   "source": [
    "import cv2\n",
    "import numpy as np\n",
    "\n",
    "# 動画ファイルを開く\n",
    "cap = cv2.VideoCapture('movie/waves_-_22183 (360p).mp4')\n",
    "\n",
    "while(cap.isOpened()):\n",
    "    # フレームを取得\n",
    "    ret, frame = cap.read()\n",
    "    \n",
    "    if ret:\n",
    "        # グレースケールに変換\n",
    "        gray = cv2.cvtColor(frame, cv2.COLOR_BGR2GRAY)\n",
    "        \n",
    "        # エッジ検出\n",
    "        edges = cv2.Canny(gray,50,150,apertureSize = 3)\n",
    "\n",
    "        # エッジの密度が高い領域を見つける\n",
    "        kernel = np.ones((15,15),np.uint8)\n",
    "        dense_edges = cv2.dilate(edges, kernel, iterations = 1)\n",
    "\n",
    "        # 閾値を設定してエッジ密度が低い領域を無視\n",
    "        _, thresholded = cv2.threshold(dense_edges, 127, 255, cv2.THRESH_BINARY)\n",
    "        \n",
    "        # 結果を表示\n",
    "        # cv2.imshow('edges',edges)\n",
    "        # cv2.imshow('dense_edges',dense_edges)\n",
    "        cv2.imshow('thresholded',thresholded)\n",
    "        \n",
    "        # 'q'キーが押されたら終了\n",
    "        if cv2.waitKey(1) & 0xFF == ord('q'):\n",
    "            break\n",
    "    else:\n",
    "        break\n",
    "\n",
    "# 動画ファイルを閉じる\n",
    "cap.release()\n",
    "cv2.destroyAllWindows()\n"
   ]
  },
  {
   "cell_type": "code",
   "execution_count": 26,
   "metadata": {},
   "outputs": [
    {
     "ename": "KeyboardInterrupt",
     "evalue": "",
     "output_type": "error",
     "traceback": [
      "\u001b[0;31m---------------------------------------------------------------------------\u001b[0m",
      "\u001b[0;31mKeyboardInterrupt\u001b[0m                         Traceback (most recent call last)",
      "Cell \u001b[0;32mIn[26], line 39\u001b[0m\n\u001b[1;32m     36\u001b[0m     last_frame \u001b[38;5;241m=\u001b[39m gray\n\u001b[1;32m     38\u001b[0m     \u001b[38;5;66;03m# 'q'キーが押されたら終了\u001b[39;00m\n\u001b[0;32m---> 39\u001b[0m     \u001b[38;5;28;01mif\u001b[39;00m \u001b[43mcv2\u001b[49m\u001b[38;5;241;43m.\u001b[39;49m\u001b[43mwaitKey\u001b[49m\u001b[43m(\u001b[49m\u001b[38;5;241;43m1\u001b[39;49m\u001b[43m)\u001b[49m \u001b[38;5;241m&\u001b[39m \u001b[38;5;241m0xFF\u001b[39m \u001b[38;5;241m==\u001b[39m \u001b[38;5;28mord\u001b[39m(\u001b[38;5;124m'\u001b[39m\u001b[38;5;124mq\u001b[39m\u001b[38;5;124m'\u001b[39m):\n\u001b[1;32m     40\u001b[0m         \u001b[38;5;28;01mbreak\u001b[39;00m\n\u001b[1;32m     41\u001b[0m \u001b[38;5;28;01melse\u001b[39;00m:\n",
      "\u001b[0;31mKeyboardInterrupt\u001b[0m: "
     ]
    }
   ],
   "source": [
    "import numpy as np\n",
    "import cv2\n",
    "\n",
    "cap = cv2.VideoCapture('movie/waves_-_22183 (360p).mp4')\n",
    "# 前フレームを保存する変数\n",
    "last_frame = None\n",
    "\n",
    "while True:\n",
    "    ret, frame = cap.read()\n",
    "\n",
    "    if ret:\n",
    "        # グレースケールに変換\n",
    "        gray = cv2.cvtColor(frame, cv2.COLOR_BGR2GRAY)\n",
    "\n",
    "        # 画像の上半分を黒で塗りつぶす\n",
    "        gray[gray.shape[0]//2:, :] = 0\n",
    "\n",
    "        # 前フレームとの差分を計算\n",
    "        if last_frame is not None:\n",
    "            frame_delta = cv2.absdiff(last_frame, gray)\n",
    "            \n",
    "            # 差分画像に対してエッジ検出\n",
    "            edges = cv2.Canny(frame_delta, 50, 150, apertureSize=3)\n",
    "\n",
    "            # エッジの密度が高い領域を見つける\n",
    "            kernel = np.ones((15,15),np.uint8)\n",
    "            dense_edges = cv2.dilate(edges, kernel, iterations=1)\n",
    "\n",
    "            # 閾値を設定してエッジ密度が低い領域を無視\n",
    "            _, thresholded = cv2.threshold(dense_edges, 127/5, 255, cv2.THRESH_BINARY)\n",
    "\n",
    "            # 結果を表示\n",
    "            cv2.imshow('dense_edges',dense_edges)\n",
    "\n",
    "        # 現フレームを保存\n",
    "        last_frame = gray\n",
    "\n",
    "        # 'q'キーが押されたら終了\n",
    "        if cv2.waitKey(1) & 0xFF == ord('q'):\n",
    "            break\n",
    "    else:\n",
    "        break\n"
   ]
  }
 ],
 "metadata": {
  "kernelspec": {
   "display_name": "venv",
   "language": "python",
   "name": "python3"
  },
  "language_info": {
   "codemirror_mode": {
    "name": "ipython",
    "version": 3
   },
   "file_extension": ".py",
   "mimetype": "text/x-python",
   "name": "python",
   "nbconvert_exporter": "python",
   "pygments_lexer": "ipython3",
   "version": "3.8.9"
  }
 },
 "nbformat": 4,
 "nbformat_minor": 2
}
